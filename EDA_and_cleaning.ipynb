{
 "cells": [
  {
   "cell_type": "code",
   "execution_count": null,
   "id": "27959aa1-9880-4b80-9177-3a7f55968a6d",
   "metadata": {},
   "outputs": [],
   "source": []
  },
  {
   "cell_type": "markdown",
   "id": "1c5be5ee-fb4c-42be-ae93-269cd5561464",
   "metadata": {},
   "source": [
    "<a id='TOC'/>\n",
    "\n",
    "### Table of Content (TOC)\n",
    "1. [Load packages](#loading_packages)\n",
    "2. [Load data](#data_loading)\n",
    "3. [EDA and data cleaning](#EDA_cleaning)"
   ]
  },
  {
   "cell_type": "markdown",
   "id": "7ee24ad7-9451-447a-83e5-188ab784cb37",
   "metadata": {
    "tags": []
   },
   "source": [
    "<a id='loading_packages'/>\n",
    "\n",
    "### Loading packages\n",
    "[back to TOC](#TOC)"
   ]
  },
  {
   "cell_type": "code",
   "execution_count": 1,
   "id": "06629b75-815f-484b-9070-be766f9c349f",
   "metadata": {
    "tags": []
   },
   "outputs": [],
   "source": [
    "import pandas as pd\n",
    "pd.set_option('display.max_rows', 150)\n",
    "\n",
    "\n",
    "import numpy as np\n",
    "\n",
    "import matplotlib.pyplot as plt\n",
    "import seaborn as sns\n",
    "\n",
    "import re"
   ]
  },
  {
   "cell_type": "markdown",
   "id": "7dbc44c2-fb1f-4c2f-9907-62ceb6cc3b0f",
   "metadata": {},
   "source": [
    "<a id='data_loading'/>\n",
    "\n",
    "### Loading data\n",
    "[back to TOC](#TOC)"
   ]
  },
  {
   "cell_type": "code",
   "execution_count": 2,
   "id": "07df374b-bc84-47ae-9b90-9c7ddaa349ac",
   "metadata": {
    "tags": []
   },
   "outputs": [],
   "source": [
    "df = pd.read_csv('data/data.csv', encoding=\"ISO-8859-1\", dtype={'CustomerID': str})"
   ]
  },
  {
   "cell_type": "markdown",
   "id": "2480c9e0-e347-468d-a917-7b3328a2a855",
   "metadata": {},
   "source": [
    "<a id='EDA_cleaning'/>\n",
    "\n",
    "### EDA and data cleaning\n",
    "[back to TOC](#TOC)"
   ]
  },
  {
   "cell_type": "code",
   "execution_count": 3,
   "id": "17b1a4b6-8242-4c9a-a7cc-737c939da216",
   "metadata": {
    "tags": []
   },
   "outputs": [
    {
     "data": {
      "text/plain": [
       "(541909, 8)"
      ]
     },
     "execution_count": 3,
     "metadata": {},
     "output_type": "execute_result"
    }
   ],
   "source": [
    "df.shape"
   ]
  },
  {
   "cell_type": "code",
   "execution_count": 4,
   "id": "c0965b0a-4c5b-477d-a054-8cbc47643824",
   "metadata": {
    "tags": []
   },
   "outputs": [
    {
     "name": "stdout",
     "output_type": "stream",
     "text": [
      "<class 'pandas.core.frame.DataFrame'>\n",
      "RangeIndex: 541909 entries, 0 to 541908\n",
      "Data columns (total 8 columns):\n",
      " #   Column       Non-Null Count   Dtype  \n",
      "---  ------       --------------   -----  \n",
      " 0   InvoiceNo    541909 non-null  object \n",
      " 1   StockCode    541909 non-null  object \n",
      " 2   Description  540455 non-null  object \n",
      " 3   Quantity     541909 non-null  int64  \n",
      " 4   InvoiceDate  541909 non-null  object \n",
      " 5   UnitPrice    541909 non-null  float64\n",
      " 6   CustomerID   406829 non-null  object \n",
      " 7   Country      541909 non-null  object \n",
      "dtypes: float64(1), int64(1), object(6)\n",
      "memory usage: 33.1+ MB\n"
     ]
    }
   ],
   "source": [
    "df.info()"
   ]
  },
  {
   "cell_type": "code",
   "execution_count": 5,
   "id": "738bfd25-76da-4bfc-81d6-758acd764b60",
   "metadata": {
    "tags": []
   },
   "outputs": [],
   "source": [
    "df['InvoiceDate'] = pd.to_datetime(df['InvoiceDate'])"
   ]
  },
  {
   "cell_type": "code",
   "execution_count": null,
   "id": "38fc919b-ca87-4040-ba43-7abf72bf8378",
   "metadata": {
    "tags": []
   },
   "outputs": [],
   "source": []
  },
  {
   "cell_type": "code",
   "execution_count": 6,
   "id": "9f286542-534a-4d8d-9054-2ffdd38dec94",
   "metadata": {
    "tags": []
   },
   "outputs": [
    {
     "data": {
      "text/html": [
       "<div>\n",
       "<style scoped>\n",
       "    .dataframe tbody tr th:only-of-type {\n",
       "        vertical-align: middle;\n",
       "    }\n",
       "\n",
       "    .dataframe tbody tr th {\n",
       "        vertical-align: top;\n",
       "    }\n",
       "\n",
       "    .dataframe thead th {\n",
       "        text-align: right;\n",
       "    }\n",
       "</style>\n",
       "<table border=\"1\" class=\"dataframe\">\n",
       "  <thead>\n",
       "    <tr style=\"text-align: right;\">\n",
       "      <th></th>\n",
       "      <th>InvoiceNo</th>\n",
       "      <th>StockCode</th>\n",
       "      <th>Description</th>\n",
       "      <th>Quantity</th>\n",
       "      <th>InvoiceDate</th>\n",
       "      <th>UnitPrice</th>\n",
       "      <th>CustomerID</th>\n",
       "      <th>Country</th>\n",
       "    </tr>\n",
       "  </thead>\n",
       "  <tbody>\n",
       "    <tr>\n",
       "      <th>317742</th>\n",
       "      <td>564817</td>\n",
       "      <td>22077</td>\n",
       "      <td>6 RIBBONS RUSTIC CHARM</td>\n",
       "      <td>4</td>\n",
       "      <td>2011-08-30 12:02:00</td>\n",
       "      <td>3.29</td>\n",
       "      <td>NaN</td>\n",
       "      <td>United Kingdom</td>\n",
       "    </tr>\n",
       "    <tr>\n",
       "      <th>397601</th>\n",
       "      <td>571190</td>\n",
       "      <td>21807</td>\n",
       "      <td>WHITE CHRISTMAS STAR DECORATION</td>\n",
       "      <td>1</td>\n",
       "      <td>2011-10-14 11:43:00</td>\n",
       "      <td>0.42</td>\n",
       "      <td>17771</td>\n",
       "      <td>United Kingdom</td>\n",
       "    </tr>\n",
       "    <tr>\n",
       "      <th>237108</th>\n",
       "      <td>557801</td>\n",
       "      <td>23031</td>\n",
       "      <td>DRAWER KNOB CRACKLE GLAZE PINK</td>\n",
       "      <td>6</td>\n",
       "      <td>2011-06-23 10:14:00</td>\n",
       "      <td>1.65</td>\n",
       "      <td>13319</td>\n",
       "      <td>United Kingdom</td>\n",
       "    </tr>\n",
       "    <tr>\n",
       "      <th>18599</th>\n",
       "      <td>537823</td>\n",
       "      <td>21058</td>\n",
       "      <td>PARTY INVITES WOODLAND</td>\n",
       "      <td>1</td>\n",
       "      <td>2010-12-08 14:25:00</td>\n",
       "      <td>1.66</td>\n",
       "      <td>NaN</td>\n",
       "      <td>United Kingdom</td>\n",
       "    </tr>\n",
       "    <tr>\n",
       "      <th>537637</th>\n",
       "      <td>581334</td>\n",
       "      <td>20724</td>\n",
       "      <td>RED RETROSPOT CHARLOTTE BAG</td>\n",
       "      <td>6</td>\n",
       "      <td>2011-12-08 12:07:00</td>\n",
       "      <td>0.85</td>\n",
       "      <td>17841</td>\n",
       "      <td>United Kingdom</td>\n",
       "    </tr>\n",
       "    <tr>\n",
       "      <th>189885</th>\n",
       "      <td>553172</td>\n",
       "      <td>23052</td>\n",
       "      <td>RECYCLED ACAPULCO MAT TURQUOISE</td>\n",
       "      <td>4</td>\n",
       "      <td>2011-05-13 17:15:00</td>\n",
       "      <td>8.25</td>\n",
       "      <td>14031</td>\n",
       "      <td>United Kingdom</td>\n",
       "    </tr>\n",
       "    <tr>\n",
       "      <th>287418</th>\n",
       "      <td>562102</td>\n",
       "      <td>23111</td>\n",
       "      <td>PARISIENNE SEWING BOX</td>\n",
       "      <td>4</td>\n",
       "      <td>2011-08-02 14:21:00</td>\n",
       "      <td>12.50</td>\n",
       "      <td>13089</td>\n",
       "      <td>United Kingdom</td>\n",
       "    </tr>\n",
       "    <tr>\n",
       "      <th>57383</th>\n",
       "      <td>541205</td>\n",
       "      <td>21745</td>\n",
       "      <td>GAOLERS KEYS DECORATIVE GARDEN</td>\n",
       "      <td>2</td>\n",
       "      <td>2011-01-14 12:23:00</td>\n",
       "      <td>3.75</td>\n",
       "      <td>18106</td>\n",
       "      <td>United Kingdom</td>\n",
       "    </tr>\n",
       "    <tr>\n",
       "      <th>297771</th>\n",
       "      <td>562955</td>\n",
       "      <td>21363</td>\n",
       "      <td>HOME SMALL WOOD LETTERS</td>\n",
       "      <td>1</td>\n",
       "      <td>2011-08-11 10:14:00</td>\n",
       "      <td>10.79</td>\n",
       "      <td>NaN</td>\n",
       "      <td>United Kingdom</td>\n",
       "    </tr>\n",
       "    <tr>\n",
       "      <th>137205</th>\n",
       "      <td>548148</td>\n",
       "      <td>84510E</td>\n",
       "      <td>SET OF 4 GREEN CAROUSEL COASTERS</td>\n",
       "      <td>1</td>\n",
       "      <td>2011-03-29 12:31:00</td>\n",
       "      <td>1.25</td>\n",
       "      <td>17931</td>\n",
       "      <td>United Kingdom</td>\n",
       "    </tr>\n",
       "  </tbody>\n",
       "</table>\n",
       "</div>"
      ],
      "text/plain": [
       "       InvoiceNo StockCode                       Description  Quantity  \\\n",
       "317742    564817     22077            6 RIBBONS RUSTIC CHARM         4   \n",
       "397601    571190     21807   WHITE CHRISTMAS STAR DECORATION         1   \n",
       "237108    557801     23031    DRAWER KNOB CRACKLE GLAZE PINK         6   \n",
       "18599     537823     21058            PARTY INVITES WOODLAND         1   \n",
       "537637    581334     20724       RED RETROSPOT CHARLOTTE BAG         6   \n",
       "189885    553172     23052   RECYCLED ACAPULCO MAT TURQUOISE         4   \n",
       "287418    562102     23111             PARISIENNE SEWING BOX         4   \n",
       "57383     541205     21745   GAOLERS KEYS DECORATIVE GARDEN          2   \n",
       "297771    562955     21363           HOME SMALL WOOD LETTERS         1   \n",
       "137205    548148    84510E  SET OF 4 GREEN CAROUSEL COASTERS         1   \n",
       "\n",
       "               InvoiceDate  UnitPrice CustomerID         Country  \n",
       "317742 2011-08-30 12:02:00       3.29        NaN  United Kingdom  \n",
       "397601 2011-10-14 11:43:00       0.42      17771  United Kingdom  \n",
       "237108 2011-06-23 10:14:00       1.65      13319  United Kingdom  \n",
       "18599  2010-12-08 14:25:00       1.66        NaN  United Kingdom  \n",
       "537637 2011-12-08 12:07:00       0.85      17841  United Kingdom  \n",
       "189885 2011-05-13 17:15:00       8.25      14031  United Kingdom  \n",
       "287418 2011-08-02 14:21:00      12.50      13089  United Kingdom  \n",
       "57383  2011-01-14 12:23:00       3.75      18106  United Kingdom  \n",
       "297771 2011-08-11 10:14:00      10.79        NaN  United Kingdom  \n",
       "137205 2011-03-29 12:31:00       1.25      17931  United Kingdom  "
      ]
     },
     "execution_count": 6,
     "metadata": {},
     "output_type": "execute_result"
    }
   ],
   "source": [
    "df.sample(10)"
   ]
  },
  {
   "cell_type": "markdown",
   "id": "f75de650-ceb6-4c0d-8009-5ba7c99c2a89",
   "metadata": {},
   "source": [
    "### Duplicates:"
   ]
  },
  {
   "cell_type": "code",
   "execution_count": 7,
   "id": "89d8d4bf-e703-4055-b836-590764f86ba0",
   "metadata": {
    "tags": []
   },
   "outputs": [],
   "source": [
    "df = df.drop(df[df.duplicated(keep=False)].index, axis=0)"
   ]
  },
  {
   "cell_type": "markdown",
   "id": "52fa2606-82b8-4f53-8500-9da7de68aa11",
   "metadata": {},
   "source": [
    "The next step of data cleaning is related to differences in spelling or formatting in the descriptions, especially created by redundant whitespaces. The following item is written either with one space between \"PINK\" and \"POLKADOT\" or with two. However, both variants are associated with the same `StockCode`,  "
   ]
  },
  {
   "cell_type": "code",
   "execution_count": 8,
   "id": "1ca83687-3e64-4874-a862-d6fac5e317ce",
   "metadata": {
    "tags": []
   },
   "outputs": [
    {
     "name": "stdout",
     "output_type": "stream",
     "text": [
      "Empty DataFrame\n",
      "Columns: [InvoiceNo, StockCode, Description, Quantity, InvoiceDate, UnitPrice, CustomerID, Country]\n",
      "Index: []\n",
      "                 Description StockCode\n",
      "446563  PINK POLKADOT PLATE      21243\n",
      "451341  PINK POLKADOT PLATE      21243\n",
      "454412  PINK POLKADOT PLATE      21243\n",
      "457809  PINK POLKADOT PLATE      21243\n",
      "458560  PINK POLKADOT PLATE      21243\n",
      "460226  PINK POLKADOT PLATE      21243\n",
      "463249  PINK POLKADOT PLATE      21243\n",
      "464591  PINK POLKADOT PLATE      21243\n",
      "466240  PINK POLKADOT PLATE      21243\n",
      "472803  PINK POLKADOT PLATE      21243\n",
      "479199  PINK POLKADOT PLATE      21243\n",
      "482488  PINK POLKADOT PLATE      21243\n",
      "485378  PINK POLKADOT PLATE      21243\n",
      "486635  PINK POLKADOT PLATE      21243\n",
      "488615  PINK POLKADOT PLATE      21243\n",
      "489293  PINK POLKADOT PLATE      21243\n",
      "492650  PINK POLKADOT PLATE      21243\n",
      "509429  PINK POLKADOT PLATE      21243\n",
      "519165  PINK POLKADOT PLATE      21243\n",
      "523682  PINK POLKADOT PLATE      21243\n",
      "524417  PINK POLKADOT PLATE      21243\n",
      "529783  PINK POLKADOT PLATE      21243\n",
      "529815  PINK POLKADOT PLATE      21243\n",
      "536468  PINK POLKADOT PLATE      21243\n",
      "539432  PINK POLKADOT PLATE      21243\n",
      "=====================================================\n",
      "                  Description StockCode\n",
      "554     PINK  POLKADOT PLATE      21243\n",
      "7376    PINK  POLKADOT PLATE      21243\n",
      "8104    PINK  POLKADOT PLATE      21243\n",
      "9728    PINK  POLKADOT PLATE      21243\n",
      "18229   PINK  POLKADOT PLATE      21243\n",
      "...                       ...       ...\n",
      "395473  PINK  POLKADOT PLATE      21243\n",
      "408422  PINK  POLKADOT PLATE      21243\n",
      "408613  PINK  POLKADOT PLATE      21243\n",
      "414695  PINK  POLKADOT PLATE      21243\n",
      "418297  PINK  POLKADOT PLATE      21243\n",
      "\n",
      "[187 rows x 2 columns]\n"
     ]
    }
   ],
   "source": [
    "print(df.query(\"Description=='PINK POLKADOT PLATE'\"))\n",
    "\n",
    "print(df.query(\"Description=='PINK POLKADOT PLATE '\")[['Description', 'StockCode']])\n",
    "print('=====================================================')\n",
    "print(df.query(\"Description=='PINK  POLKADOT PLATE '\")[['Description', 'StockCode']])"
   ]
  },
  {
   "cell_type": "code",
   "execution_count": 9,
   "id": "65396043-7b79-4076-8024-1d9734f3f8eb",
   "metadata": {
    "tags": []
   },
   "outputs": [
    {
     "name": "stdout",
     "output_type": "stream",
     "text": [
      "There are now 20 unique `Description` values again in the dataset\n"
     ]
    }
   ],
   "source": [
    "#create a Series with all unique values of `Description`\n",
    "unique_descriptions = pd.DataFrame(df['Description'].unique())[0]\n",
    "\n",
    "#removing all redundant spaces (trailing spaces and doublespaces) from the Series with unique descriptions\n",
    "unique_descriptions_without_doublespaces = pd.DataFrame(unique_descriptions.str.strip().replace(r'\\s+', ' ', regex=True))[0]\n",
    "\n",
    "#after stripping the descriptions of the redundant spaces, they not so unique anymore\n",
    "print(f\"There are now {unique_descriptions_without_doublespaces.duplicated().sum()} unique `Description` values again in the dataset\")"
   ]
  },
  {
   "cell_type": "markdown",
   "id": "a70ca573-906c-46d6-92aa-686d65c0c908",
   "metadata": {},
   "source": [
    "Some descriptions also contain commas while others don't"
   ]
  },
  {
   "cell_type": "code",
   "execution_count": 10,
   "id": "56802cba-001f-4d11-87d4-448832a969cd",
   "metadata": {
    "tags": []
   },
   "outputs": [
    {
     "data": {
      "text/plain": [
       "Description\n",
       "SWISS ROLL TOWEL PINK  SPOTS     27\n",
       "SWISS ROLL TOWEL, PINK  SPOTS    19\n",
       "Name: count, dtype: int64"
      ]
     },
     "execution_count": 10,
     "metadata": {},
     "output_type": "execute_result"
    }
   ],
   "source": [
    "df.dropna()[df.dropna()['Description'].str.contains('^(?=.*SWISS)(?=.*ROLL)(?=.*TOWEL)(?=.*PINK)(?=.*SPOTS)')]['Description'].value_counts()"
   ]
  },
  {
   "cell_type": "code",
   "execution_count": null,
   "id": "0f3e73a1-2c43-4b8a-a1c8-43024a6fe9b7",
   "metadata": {
    "tags": []
   },
   "outputs": [],
   "source": []
  },
  {
   "cell_type": "code",
   "execution_count": 11,
   "id": "d27239fa-7272-432a-a0b4-18a018c68f07",
   "metadata": {
    "tags": []
   },
   "outputs": [],
   "source": [
    "# remove commas from descriptions\n",
    "df['Description'] = df['Description'].str.replace(r',', ' ', regex=True)\n",
    "\n",
    "# remove redundant spaces from descriptions\n",
    "df['Description'] = df['Description'].str.strip().replace(r'\\s+', ' ', regex=True)"
   ]
  },
  {
   "cell_type": "code",
   "execution_count": 12,
   "id": "c39c1e5c-8abb-4a00-9fee-b67ec7e0db44",
   "metadata": {
    "tags": []
   },
   "outputs": [
    {
     "data": {
      "text/plain": [
       "0"
      ]
     },
     "execution_count": 12,
     "metadata": {},
     "output_type": "execute_result"
    }
   ],
   "source": [
    "df.duplicated(keep=False).sum()"
   ]
  },
  {
   "cell_type": "markdown",
   "id": "db2ca145-91b5-453c-ab5d-7dc82e4588ff",
   "metadata": {},
   "source": [
    "The corrections have not introduced any new duplicates."
   ]
  },
  {
   "cell_type": "markdown",
   "id": "e4742bed-6c66-42f9-889e-d10e2c2fcea6",
   "metadata": {},
   "source": [
    "### Null-values:"
   ]
  },
  {
   "cell_type": "code",
   "execution_count": 13,
   "id": "454c5935-7fd0-4fcc-af24-e0fc3f53faba",
   "metadata": {
    "tags": []
   },
   "outputs": [
    {
     "data": {
      "text/plain": [
       "InvoiceNo           0\n",
       "StockCode           0\n",
       "Description      1454\n",
       "Quantity            0\n",
       "InvoiceDate         0\n",
       "UnitPrice           0\n",
       "CustomerID     134995\n",
       "Country             0\n",
       "dtype: int64"
      ]
     },
     "execution_count": 13,
     "metadata": {},
     "output_type": "execute_result"
    }
   ],
   "source": [
    "df.isna().sum()"
   ]
  },
  {
   "cell_type": "code",
   "execution_count": 14,
   "id": "d15d1512-5c80-4984-8b34-297ccecec1d6",
   "metadata": {
    "tags": []
   },
   "outputs": [
    {
     "data": {
      "text/html": [
       "<div>\n",
       "<style scoped>\n",
       "    .dataframe tbody tr th:only-of-type {\n",
       "        vertical-align: middle;\n",
       "    }\n",
       "\n",
       "    .dataframe tbody tr th {\n",
       "        vertical-align: top;\n",
       "    }\n",
       "\n",
       "    .dataframe thead th {\n",
       "        text-align: right;\n",
       "    }\n",
       "</style>\n",
       "<table border=\"1\" class=\"dataframe\">\n",
       "  <thead>\n",
       "    <tr style=\"text-align: right;\">\n",
       "      <th></th>\n",
       "      <th>InvoiceNo</th>\n",
       "      <th>StockCode</th>\n",
       "      <th>Description</th>\n",
       "      <th>Quantity</th>\n",
       "      <th>InvoiceDate</th>\n",
       "      <th>UnitPrice</th>\n",
       "      <th>CustomerID</th>\n",
       "      <th>Country</th>\n",
       "    </tr>\n",
       "  </thead>\n",
       "  <tbody>\n",
       "    <tr>\n",
       "      <th>416901</th>\n",
       "      <td>572564</td>\n",
       "      <td>40016</td>\n",
       "      <td>NaN</td>\n",
       "      <td>-108</td>\n",
       "      <td>2011-10-25 09:56:00</td>\n",
       "      <td>0.0</td>\n",
       "      <td>NaN</td>\n",
       "      <td>United Kingdom</td>\n",
       "    </tr>\n",
       "    <tr>\n",
       "      <th>201740</th>\n",
       "      <td>554313</td>\n",
       "      <td>21144</td>\n",
       "      <td>NaN</td>\n",
       "      <td>-63</td>\n",
       "      <td>2011-05-23 15:28:00</td>\n",
       "      <td>0.0</td>\n",
       "      <td>NaN</td>\n",
       "      <td>United Kingdom</td>\n",
       "    </tr>\n",
       "    <tr>\n",
       "      <th>73935</th>\n",
       "      <td>542396</td>\n",
       "      <td>22146</td>\n",
       "      <td>NaN</td>\n",
       "      <td>-4</td>\n",
       "      <td>2011-01-27 15:12:00</td>\n",
       "      <td>0.0</td>\n",
       "      <td>NaN</td>\n",
       "      <td>United Kingdom</td>\n",
       "    </tr>\n",
       "    <tr>\n",
       "      <th>216129</th>\n",
       "      <td>555821</td>\n",
       "      <td>21399</td>\n",
       "      <td>NaN</td>\n",
       "      <td>-116</td>\n",
       "      <td>2011-06-07 12:01:00</td>\n",
       "      <td>0.0</td>\n",
       "      <td>NaN</td>\n",
       "      <td>United Kingdom</td>\n",
       "    </tr>\n",
       "    <tr>\n",
       "      <th>137905</th>\n",
       "      <td>548173</td>\n",
       "      <td>85067</td>\n",
       "      <td>NaN</td>\n",
       "      <td>-3</td>\n",
       "      <td>2011-03-29 14:17:00</td>\n",
       "      <td>0.0</td>\n",
       "      <td>NaN</td>\n",
       "      <td>United Kingdom</td>\n",
       "    </tr>\n",
       "    <tr>\n",
       "      <th>22295</th>\n",
       "      <td>538160</td>\n",
       "      <td>20956</td>\n",
       "      <td>NaN</td>\n",
       "      <td>288</td>\n",
       "      <td>2010-12-09 17:18:00</td>\n",
       "      <td>0.0</td>\n",
       "      <td>NaN</td>\n",
       "      <td>United Kingdom</td>\n",
       "    </tr>\n",
       "    <tr>\n",
       "      <th>415115</th>\n",
       "      <td>572514</td>\n",
       "      <td>20774</td>\n",
       "      <td>NaN</td>\n",
       "      <td>-4</td>\n",
       "      <td>2011-10-24 14:36:00</td>\n",
       "      <td>0.0</td>\n",
       "      <td>NaN</td>\n",
       "      <td>United Kingdom</td>\n",
       "    </tr>\n",
       "    <tr>\n",
       "      <th>500161</th>\n",
       "      <td>578738</td>\n",
       "      <td>21638</td>\n",
       "      <td>NaN</td>\n",
       "      <td>-33</td>\n",
       "      <td>2011-11-25 11:33:00</td>\n",
       "      <td>0.0</td>\n",
       "      <td>NaN</td>\n",
       "      <td>United Kingdom</td>\n",
       "    </tr>\n",
       "    <tr>\n",
       "      <th>283806</th>\n",
       "      <td>561805</td>\n",
       "      <td>23284</td>\n",
       "      <td>NaN</td>\n",
       "      <td>-15</td>\n",
       "      <td>2011-07-29 14:42:00</td>\n",
       "      <td>0.0</td>\n",
       "      <td>NaN</td>\n",
       "      <td>United Kingdom</td>\n",
       "    </tr>\n",
       "    <tr>\n",
       "      <th>220143</th>\n",
       "      <td>556124</td>\n",
       "      <td>17007B</td>\n",
       "      <td>NaN</td>\n",
       "      <td>-4</td>\n",
       "      <td>2011-06-09 10:14:00</td>\n",
       "      <td>0.0</td>\n",
       "      <td>NaN</td>\n",
       "      <td>United Kingdom</td>\n",
       "    </tr>\n",
       "  </tbody>\n",
       "</table>\n",
       "</div>"
      ],
      "text/plain": [
       "       InvoiceNo StockCode Description  Quantity         InvoiceDate  \\\n",
       "416901    572564     40016         NaN      -108 2011-10-25 09:56:00   \n",
       "201740    554313     21144         NaN       -63 2011-05-23 15:28:00   \n",
       "73935     542396     22146         NaN        -4 2011-01-27 15:12:00   \n",
       "216129    555821     21399         NaN      -116 2011-06-07 12:01:00   \n",
       "137905    548173     85067         NaN        -3 2011-03-29 14:17:00   \n",
       "22295     538160     20956         NaN       288 2010-12-09 17:18:00   \n",
       "415115    572514     20774         NaN        -4 2011-10-24 14:36:00   \n",
       "500161    578738     21638         NaN       -33 2011-11-25 11:33:00   \n",
       "283806    561805     23284         NaN       -15 2011-07-29 14:42:00   \n",
       "220143    556124    17007B         NaN        -4 2011-06-09 10:14:00   \n",
       "\n",
       "        UnitPrice CustomerID         Country  \n",
       "416901        0.0        NaN  United Kingdom  \n",
       "201740        0.0        NaN  United Kingdom  \n",
       "73935         0.0        NaN  United Kingdom  \n",
       "216129        0.0        NaN  United Kingdom  \n",
       "137905        0.0        NaN  United Kingdom  \n",
       "22295         0.0        NaN  United Kingdom  \n",
       "415115        0.0        NaN  United Kingdom  \n",
       "500161        0.0        NaN  United Kingdom  \n",
       "283806        0.0        NaN  United Kingdom  \n",
       "220143        0.0        NaN  United Kingdom  "
      ]
     },
     "execution_count": 14,
     "metadata": {},
     "output_type": "execute_result"
    }
   ],
   "source": [
    "df[df['Description'].isna()].sample(10)"
   ]
  },
  {
   "cell_type": "code",
   "execution_count": 15,
   "id": "cfea623e-f358-456f-af22-2c0a4304eee4",
   "metadata": {
    "tags": []
   },
   "outputs": [
    {
     "data": {
      "text/plain": [
       "InvoiceNo         0\n",
       "StockCode         0\n",
       "Description    1454\n",
       "Quantity          0\n",
       "InvoiceDate       0\n",
       "UnitPrice         0\n",
       "CustomerID     1454\n",
       "Country           0\n",
       "dtype: int64"
      ]
     },
     "execution_count": 15,
     "metadata": {},
     "output_type": "execute_result"
    }
   ],
   "source": [
    "df[df['Description'].isna()].isna().sum()"
   ]
  },
  {
   "cell_type": "code",
   "execution_count": 16,
   "id": "8210d41a-eb7c-4acc-831b-ff6298323c91",
   "metadata": {
    "tags": []
   },
   "outputs": [
    {
     "data": {
      "text/plain": [
       "array([0.])"
      ]
     },
     "execution_count": 16,
     "metadata": {},
     "output_type": "execute_result"
    }
   ],
   "source": [
    "df[df['Description'].isna()]['UnitPrice'].unique()"
   ]
  },
  {
   "cell_type": "code",
   "execution_count": 17,
   "id": "da85760f-0939-42f6-9fbd-ac03effbfd9c",
   "metadata": {
    "tags": []
   },
   "outputs": [
    {
     "data": {
      "text/plain": [
       "(-200.0, 200.0)"
      ]
     },
     "execution_count": 17,
     "metadata": {},
     "output_type": "execute_result"
    },
    {
     "data": {
      "image/png": "[encoded data removed]",
      "text/plain": [
       "<Figure size 640x480 with 1 Axes>"
      ]
     },
     "metadata": {},
     "output_type": "display_data"
    }
   ],
   "source": [
    "ax = df[df['Description'].isna()]['Quantity'].hist(bins=500)\n",
    "ax.set_xlim(xmin=-200, xmax=200)\n"
   ]
  },
  {
   "cell_type": "markdown",
   "id": "eb1bf9fe-8c7a-4b60-bca9-f2c092823a22",
   "metadata": {},
   "source": [
    "In 1454 cases, the `Description` and `CustomerID` values are NaN, while the `UnitPrice` is always 0.0. The `Quantity` value however ranges from high negative to high positive values.  All this could indicate undisclosed movements of stock items between warehouses. In short, these are no sales and can be **quickly disregarded** for the purpose of the task at hand.\n",
    "\n",
    "A deeper analysis by comparing the above distribution to the distribution of actual sales by means of a **variance analysis** would give us more certainty."
   ]
  },
  {
   "cell_type": "code",
   "execution_count": 18,
   "id": "853f9099-91e8-4f69-9e44-95c28db67e2c",
   "metadata": {
    "tags": []
   },
   "outputs": [],
   "source": [
    "df = df.drop(df[df['Description'].isna()].index, axis=0)"
   ]
  },
  {
   "cell_type": "markdown",
   "id": "d4caab3e-68f4-469b-8d3f-967d097eed67",
   "metadata": {},
   "source": [
    "Speaking of `UnitPrice` values:"
   ]
  },
  {
   "cell_type": "code",
   "execution_count": 19,
   "id": "7d3716ae-d823-4259-85d9-886283616131",
   "metadata": {
    "tags": []
   },
   "outputs": [
    {
     "data": {
      "text/html": [
       "<div>\n",
       "<style scoped>\n",
       "    .dataframe tbody tr th:only-of-type {\n",
       "        vertical-align: middle;\n",
       "    }\n",
       "\n",
       "    .dataframe tbody tr th {\n",
       "        vertical-align: top;\n",
       "    }\n",
       "\n",
       "    .dataframe thead th {\n",
       "        text-align: right;\n",
       "    }\n",
       "</style>\n",
       "<table border=\"1\" class=\"dataframe\">\n",
       "  <thead>\n",
       "    <tr style=\"text-align: right;\">\n",
       "      <th></th>\n",
       "      <th>InvoiceNo</th>\n",
       "      <th>StockCode</th>\n",
       "      <th>Description</th>\n",
       "      <th>Quantity</th>\n",
       "      <th>InvoiceDate</th>\n",
       "      <th>UnitPrice</th>\n",
       "      <th>CustomerID</th>\n",
       "      <th>Country</th>\n",
       "    </tr>\n",
       "  </thead>\n",
       "  <tbody>\n",
       "    <tr>\n",
       "      <th>299983</th>\n",
       "      <td>A563186</td>\n",
       "      <td>B</td>\n",
       "      <td>Adjust bad debt</td>\n",
       "      <td>1</td>\n",
       "      <td>2011-08-12 14:51:00</td>\n",
       "      <td>-11062.06</td>\n",
       "      <td>NaN</td>\n",
       "      <td>United Kingdom</td>\n",
       "    </tr>\n",
       "    <tr>\n",
       "      <th>299984</th>\n",
       "      <td>A563187</td>\n",
       "      <td>B</td>\n",
       "      <td>Adjust bad debt</td>\n",
       "      <td>1</td>\n",
       "      <td>2011-08-12 14:52:00</td>\n",
       "      <td>-11062.06</td>\n",
       "      <td>NaN</td>\n",
       "      <td>United Kingdom</td>\n",
       "    </tr>\n",
       "  </tbody>\n",
       "</table>\n",
       "</div>"
      ],
      "text/plain": [
       "       InvoiceNo StockCode      Description  Quantity         InvoiceDate  \\\n",
       "299983   A563186         B  Adjust bad debt         1 2011-08-12 14:51:00   \n",
       "299984   A563187         B  Adjust bad debt         1 2011-08-12 14:52:00   \n",
       "\n",
       "        UnitPrice CustomerID         Country  \n",
       "299983  -11062.06        NaN  United Kingdom  \n",
       "299984  -11062.06        NaN  United Kingdom  "
      ]
     },
     "execution_count": 19,
     "metadata": {},
     "output_type": "execute_result"
    }
   ],
   "source": [
    "df.query(\"UnitPrice <0\")"
   ]
  },
  {
   "cell_type": "markdown",
   "id": "e5edafc7-bf7b-48fd-9f7c-466d6b11edf7",
   "metadata": {},
   "source": [
    "These have nothing to do with the customers and can be dropped."
   ]
  },
  {
   "cell_type": "code",
   "execution_count": 20,
   "id": "3de30bf3-1884-404c-a405-886df6dea346",
   "metadata": {
    "tags": []
   },
   "outputs": [],
   "source": [
    "df = df.drop(df.query(\"UnitPrice <0\").index, axis=0)"
   ]
  },
  {
   "cell_type": "markdown",
   "id": "778e4c37-90fc-40fb-888b-c80516445aaa",
   "metadata": {},
   "source": [
    "Then there are also transactions with `UnitPrice`=0:"
   ]
  },
  {
   "cell_type": "code",
   "execution_count": 21,
   "id": "f828a429-d74e-4bee-8739-878164a19312",
   "metadata": {
    "tags": []
   },
   "outputs": [
    {
     "data": {
      "text/html": [
       "<div>\n",
       "<style scoped>\n",
       "    .dataframe tbody tr th:only-of-type {\n",
       "        vertical-align: middle;\n",
       "    }\n",
       "\n",
       "    .dataframe tbody tr th {\n",
       "        vertical-align: top;\n",
       "    }\n",
       "\n",
       "    .dataframe thead th {\n",
       "        text-align: right;\n",
       "    }\n",
       "</style>\n",
       "<table border=\"1\" class=\"dataframe\">\n",
       "  <thead>\n",
       "    <tr style=\"text-align: right;\">\n",
       "      <th></th>\n",
       "      <th>InvoiceNo</th>\n",
       "      <th>StockCode</th>\n",
       "      <th>Description</th>\n",
       "      <th>Quantity</th>\n",
       "      <th>InvoiceDate</th>\n",
       "      <th>UnitPrice</th>\n",
       "      <th>CustomerID</th>\n",
       "      <th>Country</th>\n",
       "    </tr>\n",
       "  </thead>\n",
       "  <tbody>\n",
       "    <tr>\n",
       "      <th>6391</th>\n",
       "      <td>536941</td>\n",
       "      <td>22734</td>\n",
       "      <td>amazon</td>\n",
       "      <td>20</td>\n",
       "      <td>2010-12-03 12:08:00</td>\n",
       "      <td>0.0</td>\n",
       "      <td>NaN</td>\n",
       "      <td>United Kingdom</td>\n",
       "    </tr>\n",
       "    <tr>\n",
       "      <th>6392</th>\n",
       "      <td>536942</td>\n",
       "      <td>22139</td>\n",
       "      <td>amazon</td>\n",
       "      <td>15</td>\n",
       "      <td>2010-12-03 12:08:00</td>\n",
       "      <td>0.0</td>\n",
       "      <td>NaN</td>\n",
       "      <td>United Kingdom</td>\n",
       "    </tr>\n",
       "    <tr>\n",
       "      <th>7313</th>\n",
       "      <td>537032</td>\n",
       "      <td>21275</td>\n",
       "      <td>?</td>\n",
       "      <td>-30</td>\n",
       "      <td>2010-12-03 16:50:00</td>\n",
       "      <td>0.0</td>\n",
       "      <td>NaN</td>\n",
       "      <td>United Kingdom</td>\n",
       "    </tr>\n",
       "    <tr>\n",
       "      <th>9302</th>\n",
       "      <td>537197</td>\n",
       "      <td>22841</td>\n",
       "      <td>ROUND CAKE TIN VINTAGE GREEN</td>\n",
       "      <td>1</td>\n",
       "      <td>2010-12-05 14:02:00</td>\n",
       "      <td>0.0</td>\n",
       "      <td>12647</td>\n",
       "      <td>Germany</td>\n",
       "    </tr>\n",
       "    <tr>\n",
       "      <th>13217</th>\n",
       "      <td>537425</td>\n",
       "      <td>84968F</td>\n",
       "      <td>check</td>\n",
       "      <td>-20</td>\n",
       "      <td>2010-12-06 15:35:00</td>\n",
       "      <td>0.0</td>\n",
       "      <td>NaN</td>\n",
       "      <td>United Kingdom</td>\n",
       "    </tr>\n",
       "    <tr>\n",
       "      <th>13218</th>\n",
       "      <td>537426</td>\n",
       "      <td>84968E</td>\n",
       "      <td>check</td>\n",
       "      <td>-35</td>\n",
       "      <td>2010-12-06 15:36:00</td>\n",
       "      <td>0.0</td>\n",
       "      <td>NaN</td>\n",
       "      <td>United Kingdom</td>\n",
       "    </tr>\n",
       "    <tr>\n",
       "      <th>13264</th>\n",
       "      <td>537432</td>\n",
       "      <td>35833G</td>\n",
       "      <td>damages</td>\n",
       "      <td>-43</td>\n",
       "      <td>2010-12-06 16:10:00</td>\n",
       "      <td>0.0</td>\n",
       "      <td>NaN</td>\n",
       "      <td>United Kingdom</td>\n",
       "    </tr>\n",
       "    <tr>\n",
       "      <th>14335</th>\n",
       "      <td>537534</td>\n",
       "      <td>85064</td>\n",
       "      <td>CREAM SWEETHEART LETTER RACK</td>\n",
       "      <td>1</td>\n",
       "      <td>2010-12-07 11:48:00</td>\n",
       "      <td>0.0</td>\n",
       "      <td>NaN</td>\n",
       "      <td>United Kingdom</td>\n",
       "    </tr>\n",
       "    <tr>\n",
       "      <th>14336</th>\n",
       "      <td>537534</td>\n",
       "      <td>84832</td>\n",
       "      <td>ZINC WILLIE WINKIE CANDLE STICK</td>\n",
       "      <td>1</td>\n",
       "      <td>2010-12-07 11:48:00</td>\n",
       "      <td>0.0</td>\n",
       "      <td>NaN</td>\n",
       "      <td>United Kingdom</td>\n",
       "    </tr>\n",
       "    <tr>\n",
       "      <th>14337</th>\n",
       "      <td>537534</td>\n",
       "      <td>84692</td>\n",
       "      <td>BOX OF 24 COCKTAIL PARASOLS</td>\n",
       "      <td>2</td>\n",
       "      <td>2010-12-07 11:48:00</td>\n",
       "      <td>0.0</td>\n",
       "      <td>NaN</td>\n",
       "      <td>United Kingdom</td>\n",
       "    </tr>\n",
       "  </tbody>\n",
       "</table>\n",
       "</div>"
      ],
      "text/plain": [
       "      InvoiceNo StockCode                      Description  Quantity  \\\n",
       "6391     536941     22734                           amazon        20   \n",
       "6392     536942     22139                           amazon        15   \n",
       "7313     537032     21275                                ?       -30   \n",
       "9302     537197     22841     ROUND CAKE TIN VINTAGE GREEN         1   \n",
       "13217    537425    84968F                            check       -20   \n",
       "13218    537426    84968E                            check       -35   \n",
       "13264    537432    35833G                          damages       -43   \n",
       "14335    537534     85064     CREAM SWEETHEART LETTER RACK         1   \n",
       "14336    537534     84832  ZINC WILLIE WINKIE CANDLE STICK         1   \n",
       "14337    537534     84692      BOX OF 24 COCKTAIL PARASOLS         2   \n",
       "\n",
       "              InvoiceDate  UnitPrice CustomerID         Country  \n",
       "6391  2010-12-03 12:08:00        0.0        NaN  United Kingdom  \n",
       "6392  2010-12-03 12:08:00        0.0        NaN  United Kingdom  \n",
       "7313  2010-12-03 16:50:00        0.0        NaN  United Kingdom  \n",
       "9302  2010-12-05 14:02:00        0.0      12647         Germany  \n",
       "13217 2010-12-06 15:35:00        0.0        NaN  United Kingdom  \n",
       "13218 2010-12-06 15:36:00        0.0        NaN  United Kingdom  \n",
       "13264 2010-12-06 16:10:00        0.0        NaN  United Kingdom  \n",
       "14335 2010-12-07 11:48:00        0.0        NaN  United Kingdom  \n",
       "14336 2010-12-07 11:48:00        0.0        NaN  United Kingdom  \n",
       "14337 2010-12-07 11:48:00        0.0        NaN  United Kingdom  "
      ]
     },
     "execution_count": 21,
     "metadata": {},
     "output_type": "execute_result"
    }
   ],
   "source": [
    "df.query(\"UnitPrice ==0\").head(10)"
   ]
  },
  {
   "cell_type": "markdown",
   "id": "50d88c80-e996-4aa5-8a90-dc17fa606f53",
   "metadata": {},
   "source": [
    "Some of them have a `CustomerID` value but others don't:"
   ]
  },
  {
   "cell_type": "code",
   "execution_count": 22,
   "id": "da2ad15b-ddae-4b1e-a579-dc50c9640d0c",
   "metadata": {
    "tags": []
   },
   "outputs": [
    {
     "data": {
      "text/plain": [
       "CustomerID\n",
       "True     1011\n",
       "False      40\n",
       "Name: count, dtype: int64"
      ]
     },
     "execution_count": 22,
     "metadata": {},
     "output_type": "execute_result"
    }
   ],
   "source": [
    "df.query(\"UnitPrice ==0\")['CustomerID'].isna().value_counts()"
   ]
  },
  {
   "cell_type": "markdown",
   "id": "59a24888-7cbf-409f-a9a4-ff7214b5408c",
   "metadata": {},
   "source": [
    "The question remains, how transactions with `UnitPrice`=0 actually represent the sentiment of a customer towards the product? Where the products gifted or rabated?"
   ]
  },
  {
   "cell_type": "code",
   "execution_count": 23,
   "id": "f94de078-48b1-474c-9def-6180653eab36",
   "metadata": {
    "tags": []
   },
   "outputs": [
    {
     "data": {
      "text/html": [
       "<div>\n",
       "<style scoped>\n",
       "    .dataframe tbody tr th:only-of-type {\n",
       "        vertical-align: middle;\n",
       "    }\n",
       "\n",
       "    .dataframe tbody tr th {\n",
       "        vertical-align: top;\n",
       "    }\n",
       "\n",
       "    .dataframe thead th {\n",
       "        text-align: right;\n",
       "    }\n",
       "</style>\n",
       "<table border=\"1\" class=\"dataframe\">\n",
       "  <thead>\n",
       "    <tr style=\"text-align: right;\">\n",
       "      <th></th>\n",
       "      <th>InvoiceNo</th>\n",
       "      <th>StockCode</th>\n",
       "      <th>Description</th>\n",
       "      <th>Quantity</th>\n",
       "      <th>InvoiceDate</th>\n",
       "      <th>UnitPrice</th>\n",
       "      <th>CustomerID</th>\n",
       "      <th>Country</th>\n",
       "    </tr>\n",
       "  </thead>\n",
       "  <tbody>\n",
       "    <tr>\n",
       "      <th>379992</th>\n",
       "      <td>569722</td>\n",
       "      <td>22385</td>\n",
       "      <td>JUMBO BAG SPACEBOY DESIGN</td>\n",
       "      <td>20</td>\n",
       "      <td>2011-10-06 09:31:00</td>\n",
       "      <td>2.08</td>\n",
       "      <td>12431</td>\n",
       "      <td>Australia</td>\n",
       "    </tr>\n",
       "    <tr>\n",
       "      <th>439361</th>\n",
       "      <td>574469</td>\n",
       "      <td>22385</td>\n",
       "      <td>JUMBO BAG SPACEBOY DESIGN</td>\n",
       "      <td>12</td>\n",
       "      <td>2011-11-04 11:55:00</td>\n",
       "      <td>0.00</td>\n",
       "      <td>12431</td>\n",
       "      <td>Australia</td>\n",
       "    </tr>\n",
       "  </tbody>\n",
       "</table>\n",
       "</div>"
      ],
      "text/plain": [
       "       InvoiceNo StockCode                Description  Quantity  \\\n",
       "379992    569722     22385  JUMBO BAG SPACEBOY DESIGN        20   \n",
       "439361    574469     22385  JUMBO BAG SPACEBOY DESIGN        12   \n",
       "\n",
       "               InvoiceDate  UnitPrice CustomerID    Country  \n",
       "379992 2011-10-06 09:31:00       2.08      12431  Australia  \n",
       "439361 2011-11-04 11:55:00       0.00      12431  Australia  "
      ]
     },
     "execution_count": 23,
     "metadata": {},
     "output_type": "execute_result"
    }
   ],
   "source": [
    "df.query(\"Description == 'JUMBO BAG SPACEBOY DESIGN' & CustomerID == '12431'\")"
   ]
  },
  {
   "cell_type": "markdown",
   "id": "26637461-114b-4cb4-bfd3-478f0df8e37d",
   "metadata": {},
   "source": [
    "This one coud have been given to the customer for free as a rabate: \"_if you buy 20, you get 12 free on your next order_\".\n",
    "It would be difficult to determine whether that was the case or the `UnitPrice` was just not properly recorded. "
   ]
  },
  {
   "cell_type": "code",
   "execution_count": 24,
   "id": "40d1aad1-0f9e-4e36-9f35-3b9b52005981",
   "metadata": {
    "tags": []
   },
   "outputs": [
    {
     "data": {
      "text/html": [
       "<div>\n",
       "<style scoped>\n",
       "    .dataframe tbody tr th:only-of-type {\n",
       "        vertical-align: middle;\n",
       "    }\n",
       "\n",
       "    .dataframe tbody tr th {\n",
       "        vertical-align: top;\n",
       "    }\n",
       "\n",
       "    .dataframe thead th {\n",
       "        text-align: right;\n",
       "    }\n",
       "</style>\n",
       "<table border=\"1\" class=\"dataframe\">\n",
       "  <thead>\n",
       "    <tr style=\"text-align: right;\">\n",
       "      <th></th>\n",
       "      <th>InvoiceNo</th>\n",
       "      <th>StockCode</th>\n",
       "      <th>Description</th>\n",
       "      <th>Quantity</th>\n",
       "      <th>InvoiceDate</th>\n",
       "      <th>UnitPrice</th>\n",
       "      <th>CustomerID</th>\n",
       "      <th>Country</th>\n",
       "    </tr>\n",
       "  </thead>\n",
       "  <tbody>\n",
       "    <tr>\n",
       "      <th>304967</th>\n",
       "      <td>563614</td>\n",
       "      <td>23234</td>\n",
       "      <td>BISCUIT TIN VINTAGE CHRISTMAS</td>\n",
       "      <td>216</td>\n",
       "      <td>2011-08-18 08:51:00</td>\n",
       "      <td>2.49</td>\n",
       "      <td>12415</td>\n",
       "      <td>Australia</td>\n",
       "    </tr>\n",
       "    <tr>\n",
       "      <th>436428</th>\n",
       "      <td>574138</td>\n",
       "      <td>23234</td>\n",
       "      <td>BISCUIT TIN VINTAGE CHRISTMAS</td>\n",
       "      <td>216</td>\n",
       "      <td>2011-11-03 11:26:00</td>\n",
       "      <td>0.00</td>\n",
       "      <td>12415</td>\n",
       "      <td>Australia</td>\n",
       "    </tr>\n",
       "  </tbody>\n",
       "</table>\n",
       "</div>"
      ],
      "text/plain": [
       "       InvoiceNo StockCode                    Description  Quantity  \\\n",
       "304967    563614     23234  BISCUIT TIN VINTAGE CHRISTMAS       216   \n",
       "436428    574138     23234  BISCUIT TIN VINTAGE CHRISTMAS       216   \n",
       "\n",
       "               InvoiceDate  UnitPrice CustomerID    Country  \n",
       "304967 2011-08-18 08:51:00       2.49      12415  Australia  \n",
       "436428 2011-11-03 11:26:00       0.00      12415  Australia  "
      ]
     },
     "execution_count": 24,
     "metadata": {},
     "output_type": "execute_result"
    }
   ],
   "source": [
    "df.query(\"Description == 'BISCUIT TIN VINTAGE CHRISTMAS' & CustomerID == '12415'\")"
   ]
  },
  {
   "cell_type": "markdown",
   "id": "8603930f-f34c-4950-8414-44b35c67eb5e",
   "metadata": {},
   "source": [
    "One customer bought 216 Buiscuit Tins for a total price of 537.84$. At the next order, the same amount of the same item was for free?\n"
   ]
  },
  {
   "cell_type": "code",
   "execution_count": 25,
   "id": "0852ac9b-c7eb-41e3-8941-0d0c199136cc",
   "metadata": {
    "tags": []
   },
   "outputs": [
    {
     "data": {
      "text/html": [
       "<div>\n",
       "<style scoped>\n",
       "    .dataframe tbody tr th:only-of-type {\n",
       "        vertical-align: middle;\n",
       "    }\n",
       "\n",
       "    .dataframe tbody tr th {\n",
       "        vertical-align: top;\n",
       "    }\n",
       "\n",
       "    .dataframe thead th {\n",
       "        text-align: right;\n",
       "    }\n",
       "</style>\n",
       "<table border=\"1\" class=\"dataframe\">\n",
       "  <thead>\n",
       "    <tr style=\"text-align: right;\">\n",
       "      <th></th>\n",
       "      <th>InvoiceNo</th>\n",
       "      <th>StockCode</th>\n",
       "      <th>Description</th>\n",
       "      <th>Quantity</th>\n",
       "      <th>InvoiceDate</th>\n",
       "      <th>UnitPrice</th>\n",
       "      <th>CustomerID</th>\n",
       "      <th>Country</th>\n",
       "    </tr>\n",
       "  </thead>\n",
       "  <tbody>\n",
       "    <tr>\n",
       "      <th>424657</th>\n",
       "      <td>573276</td>\n",
       "      <td>23480</td>\n",
       "      <td>MINI LIGHTS WOODLAND MUSHROOMS</td>\n",
       "      <td>8</td>\n",
       "      <td>2011-10-28 13:14:00</td>\n",
       "      <td>3.75</td>\n",
       "      <td>13985</td>\n",
       "      <td>United Kingdom</td>\n",
       "    </tr>\n",
       "    <tr>\n",
       "      <th>446781</th>\n",
       "      <td>574920</td>\n",
       "      <td>23480</td>\n",
       "      <td>MINI LIGHTS WOODLAND MUSHROOMS</td>\n",
       "      <td>4</td>\n",
       "      <td>2011-11-07 16:34:00</td>\n",
       "      <td>3.75</td>\n",
       "      <td>13985</td>\n",
       "      <td>United Kingdom</td>\n",
       "    </tr>\n",
       "    <tr>\n",
       "      <th>446794</th>\n",
       "      <td>574920</td>\n",
       "      <td>23480</td>\n",
       "      <td>MINI LIGHTS WOODLAND MUSHROOMS</td>\n",
       "      <td>1</td>\n",
       "      <td>2011-11-07 16:34:00</td>\n",
       "      <td>0.00</td>\n",
       "      <td>13985</td>\n",
       "      <td>United Kingdom</td>\n",
       "    </tr>\n",
       "  </tbody>\n",
       "</table>\n",
       "</div>"
      ],
      "text/plain": [
       "       InvoiceNo StockCode                     Description  Quantity  \\\n",
       "424657    573276     23480  MINI LIGHTS WOODLAND MUSHROOMS         8   \n",
       "446781    574920     23480  MINI LIGHTS WOODLAND MUSHROOMS         4   \n",
       "446794    574920     23480  MINI LIGHTS WOODLAND MUSHROOMS         1   \n",
       "\n",
       "               InvoiceDate  UnitPrice CustomerID         Country  \n",
       "424657 2011-10-28 13:14:00       3.75      13985  United Kingdom  \n",
       "446781 2011-11-07 16:34:00       3.75      13985  United Kingdom  \n",
       "446794 2011-11-07 16:34:00       0.00      13985  United Kingdom  "
      ]
     },
     "execution_count": 25,
     "metadata": {},
     "output_type": "execute_result"
    }
   ],
   "source": [
    "df.query(\"Description == 'MINI LIGHTS WOODLAND MUSHROOMS' & CustomerID == '13985'\")"
   ]
  },
  {
   "cell_type": "markdown",
   "id": "69389f8b-be86-45e0-9ea6-c810a4251cf3",
   "metadata": {},
   "source": [
    "This could be a rabate. "
   ]
  },
  {
   "cell_type": "markdown",
   "id": "e8c15154-96e6-4e80-ade5-50ae369cf1a5",
   "metadata": {},
   "source": [
    "It is not clear how the transactions with `UnitPrice`=0 come to be. Perhaps there are certain (or hidden) rules that explain these prices. \n",
    "\n",
    "As those free sales often (but not always) follow previous sales of the same items but for higher prices, I assume that they still reflect the customers preferences and can be used for the recommendation engine."
   ]
  },
  {
   "cell_type": "markdown",
   "id": "b6d58a63-c86f-4c8f-a481-1ed473cce7b0",
   "metadata": {},
   "source": [
    "We see again and again, that there are many missing `CustomerID` numbers. For a recommendation however, it is quite important to be able to associate sales with certain customers. We are also missing information that could help us impute and distinguish between the unsigned customers. Ist is clear, for instance, that the same `InvoiceNo` refers to one single customer. However, it is not clear which other invoice numbers refer to the same customer. Perhaps it could be possible to distinguish between these customers by clustering. However, more data would probably by necessary for that: more detailed location data (ZIP numbers or IP numbers e.g.).  \n",
    "\n",
    "As this is not the scope of the current task, I will for now delete the rows that belong to the unknown customers. "
   ]
  },
  {
   "cell_type": "code",
   "execution_count": 26,
   "id": "05c45fa0-9501-4669-be81-8d995b4deb5c",
   "metadata": {
    "tags": []
   },
   "outputs": [],
   "source": [
    "df = df.drop(df[df['CustomerID'].isna()].index, axis=0)"
   ]
  },
  {
   "cell_type": "code",
   "execution_count": 27,
   "id": "b2cdfbee-3c3f-4bdb-bbdf-58183942671d",
   "metadata": {
    "tags": []
   },
   "outputs": [
    {
     "data": {
      "text/plain": [
       "InvoiceNo      0\n",
       "StockCode      0\n",
       "Description    0\n",
       "Quantity       0\n",
       "InvoiceDate    0\n",
       "UnitPrice      0\n",
       "CustomerID     0\n",
       "Country        0\n",
       "dtype: int64"
      ]
     },
     "execution_count": 27,
     "metadata": {},
     "output_type": "execute_result"
    }
   ],
   "source": [
    "df.isna().sum()"
   ]
  },
  {
   "cell_type": "markdown",
   "id": "39140bae-a00d-45e6-9271-9e8890191a53",
   "metadata": {},
   "source": [
    "### Sales vs. returns"
   ]
  },
  {
   "cell_type": "markdown",
   "id": "0a23f511-1d08-4b33-b74c-c4aa9705aa9c",
   "metadata": {},
   "source": [
    "The next point that needs to be addressed are negativ `Quantity` values."
   ]
  },
  {
   "cell_type": "code",
   "execution_count": 28,
   "id": "6508c56e-59f2-4caf-961e-88d163579d24",
   "metadata": {
    "tags": []
   },
   "outputs": [
    {
     "data": {
      "text/html": [
       "<div>\n",
       "<style scoped>\n",
       "    .dataframe tbody tr th:only-of-type {\n",
       "        vertical-align: middle;\n",
       "    }\n",
       "\n",
       "    .dataframe tbody tr th {\n",
       "        vertical-align: top;\n",
       "    }\n",
       "\n",
       "    .dataframe thead th {\n",
       "        text-align: right;\n",
       "    }\n",
       "</style>\n",
       "<table border=\"1\" class=\"dataframe\">\n",
       "  <thead>\n",
       "    <tr style=\"text-align: right;\">\n",
       "      <th></th>\n",
       "      <th>InvoiceNo</th>\n",
       "      <th>StockCode</th>\n",
       "      <th>Description</th>\n",
       "      <th>Quantity</th>\n",
       "      <th>InvoiceDate</th>\n",
       "      <th>UnitPrice</th>\n",
       "      <th>CustomerID</th>\n",
       "      <th>Country</th>\n",
       "    </tr>\n",
       "  </thead>\n",
       "  <tbody>\n",
       "    <tr>\n",
       "      <th>197426</th>\n",
       "      <td>C553906</td>\n",
       "      <td>22342</td>\n",
       "      <td>HOME GARLAND PAINTED ZINC</td>\n",
       "      <td>-12</td>\n",
       "      <td>2011-05-19 18:13:00</td>\n",
       "      <td>1.65</td>\n",
       "      <td>16554</td>\n",
       "      <td>United Kingdom</td>\n",
       "    </tr>\n",
       "    <tr>\n",
       "      <th>21749</th>\n",
       "      <td>C538119</td>\n",
       "      <td>22865</td>\n",
       "      <td>HAND WARMER OWL DESIGN</td>\n",
       "      <td>-1</td>\n",
       "      <td>2010-12-09 15:34:00</td>\n",
       "      <td>2.10</td>\n",
       "      <td>13136</td>\n",
       "      <td>United Kingdom</td>\n",
       "    </tr>\n",
       "    <tr>\n",
       "      <th>144834</th>\n",
       "      <td>C548834</td>\n",
       "      <td>M</td>\n",
       "      <td>Manual</td>\n",
       "      <td>-1</td>\n",
       "      <td>2011-04-04 13:09:00</td>\n",
       "      <td>2053.07</td>\n",
       "      <td>12744</td>\n",
       "      <td>Singapore</td>\n",
       "    </tr>\n",
       "    <tr>\n",
       "      <th>516392</th>\n",
       "      <td>C579894</td>\n",
       "      <td>23012</td>\n",
       "      <td>GLASS APOTHECARY BOTTLE PERFUME</td>\n",
       "      <td>-1</td>\n",
       "      <td>2011-12-01 08:26:00</td>\n",
       "      <td>3.95</td>\n",
       "      <td>13098</td>\n",
       "      <td>United Kingdom</td>\n",
       "    </tr>\n",
       "  </tbody>\n",
       "</table>\n",
       "</div>"
      ],
      "text/plain": [
       "       InvoiceNo StockCode                      Description  Quantity  \\\n",
       "197426   C553906     22342        HOME GARLAND PAINTED ZINC       -12   \n",
       "21749    C538119     22865           HAND WARMER OWL DESIGN        -1   \n",
       "144834   C548834         M                           Manual        -1   \n",
       "516392   C579894     23012  GLASS APOTHECARY BOTTLE PERFUME        -1   \n",
       "\n",
       "               InvoiceDate  UnitPrice CustomerID         Country  \n",
       "197426 2011-05-19 18:13:00       1.65      16554  United Kingdom  \n",
       "21749  2010-12-09 15:34:00       2.10      13136  United Kingdom  \n",
       "144834 2011-04-04 13:09:00    2053.07      12744       Singapore  \n",
       "516392 2011-12-01 08:26:00       3.95      13098  United Kingdom  "
      ]
     },
     "execution_count": 28,
     "metadata": {},
     "output_type": "execute_result"
    }
   ],
   "source": [
    "df.query(\"Quantity<=0\").sample(4)"
   ]
  },
  {
   "cell_type": "code",
   "execution_count": null,
   "id": "69a6b4ba-db2b-41ef-b803-bf8168980a41",
   "metadata": {},
   "outputs": [],
   "source": []
  },
  {
   "cell_type": "code",
   "execution_count": 29,
   "id": "85ec1e4b-98fe-44ed-b4b8-0fa0a2812856",
   "metadata": {
    "tags": []
   },
   "outputs": [],
   "source": [
    "df['Cancelled'] = (\n",
    "    df['InvoiceNo']\n",
    "    .str.extract('([a-zA-Z]+)')\n",
    "    .rename(columns={0:'Cancelled'})\n",
    "    .fillna(0)\n",
    "    .replace({'C': 1})\n",
    "    .astype(int))\n"
   ]
  },
  {
   "cell_type": "code",
   "execution_count": 30,
   "id": "5b99accc-186f-4401-8190-5889940e8419",
   "metadata": {
    "tags": []
   },
   "outputs": [
    {
     "data": {
      "text/plain": [
       "InvoiceNo      0\n",
       "StockCode      0\n",
       "Description    0\n",
       "Quantity       0\n",
       "InvoiceDate    0\n",
       "UnitPrice      0\n",
       "CustomerID     0\n",
       "Country        0\n",
       "Cancelled      0\n",
       "dtype: int64"
      ]
     },
     "execution_count": 30,
     "metadata": {},
     "output_type": "execute_result"
    }
   ],
   "source": [
    "df.query(\"Quantity<=0 & Cancelled==0\").count()"
   ]
  },
  {
   "cell_type": "markdown",
   "id": "fd1ccf35-9286-4d5a-b09e-93f7d8484ccb",
   "metadata": {},
   "source": [
    "All cases with `Quantity` < 0 are cancelled transactions."
   ]
  },
  {
   "cell_type": "code",
   "execution_count": 31,
   "id": "f3ed7088-da32-4345-a2a2-8f56760a6543",
   "metadata": {
    "tags": []
   },
   "outputs": [
    {
     "name": "stdout",
     "output_type": "stream",
     "text": [
      "2.3% of all transactions are canceled gain.\n"
     ]
    }
   ],
   "source": [
    "print(f\"{round(df['Cancelled'].value_counts()[1]/df['Cancelled'].value_counts()[0]*100,1)}% of all transactions are canceled gain.\")"
   ]
  },
  {
   "cell_type": "code",
   "execution_count": null,
   "id": "e39d51f6-0afa-4c53-9428-c213af0bdb46",
   "metadata": {},
   "outputs": [],
   "source": []
  },
  {
   "cell_type": "code",
   "execution_count": null,
   "id": "93bfc46f-2ad6-4f3d-99a5-7eb96c802053",
   "metadata": {
    "tags": []
   },
   "outputs": [],
   "source": []
  },
  {
   "cell_type": "code",
   "execution_count": 32,
   "id": "16539e4d-537c-40e5-afa1-eaa4e4f89e62",
   "metadata": {
    "tags": []
   },
   "outputs": [
    {
     "data": {
      "text/plain": [
       "array(['POST', 'D', 'M', 'PADS', 'DOT', 'CRUK'], dtype=object)"
      ]
     },
     "execution_count": 32,
     "metadata": {},
     "output_type": "execute_result"
    }
   ],
   "source": [
    "df[df['StockCode'].str.isalpha()]['StockCode'].unique()"
   ]
  },
  {
   "cell_type": "code",
   "execution_count": 33,
   "id": "028e89ff-a429-4f3a-beca-37f3fdad68c5",
   "metadata": {
    "tags": []
   },
   "outputs": [
    {
     "data": {
      "text/html": [
       "<div>\n",
       "<style scoped>\n",
       "    .dataframe tbody tr th:only-of-type {\n",
       "        vertical-align: middle;\n",
       "    }\n",
       "\n",
       "    .dataframe tbody tr th {\n",
       "        vertical-align: top;\n",
       "    }\n",
       "\n",
       "    .dataframe thead th {\n",
       "        text-align: right;\n",
       "    }\n",
       "</style>\n",
       "<table border=\"1\" class=\"dataframe\">\n",
       "  <thead>\n",
       "    <tr style=\"text-align: right;\">\n",
       "      <th></th>\n",
       "      <th>InvoiceNo</th>\n",
       "      <th>StockCode</th>\n",
       "      <th>Description</th>\n",
       "      <th>Quantity</th>\n",
       "      <th>InvoiceDate</th>\n",
       "      <th>UnitPrice</th>\n",
       "      <th>CustomerID</th>\n",
       "      <th>Country</th>\n",
       "      <th>Cancelled</th>\n",
       "    </tr>\n",
       "  </thead>\n",
       "  <tbody>\n",
       "    <tr>\n",
       "      <th>157195</th>\n",
       "      <td>550193</td>\n",
       "      <td>PADS</td>\n",
       "      <td>PADS TO MATCH ALL CUSHIONS</td>\n",
       "      <td>1</td>\n",
       "      <td>2011-04-15 09:27:00</td>\n",
       "      <td>0.001</td>\n",
       "      <td>13952</td>\n",
       "      <td>United Kingdom</td>\n",
       "      <td>0</td>\n",
       "    </tr>\n",
       "    <tr>\n",
       "      <th>279045</th>\n",
       "      <td>561226</td>\n",
       "      <td>PADS</td>\n",
       "      <td>PADS TO MATCH ALL CUSHIONS</td>\n",
       "      <td>1</td>\n",
       "      <td>2011-07-26 10:13:00</td>\n",
       "      <td>0.001</td>\n",
       "      <td>15618</td>\n",
       "      <td>United Kingdom</td>\n",
       "      <td>0</td>\n",
       "    </tr>\n",
       "    <tr>\n",
       "      <th>358655</th>\n",
       "      <td>568158</td>\n",
       "      <td>PADS</td>\n",
       "      <td>PADS TO MATCH ALL CUSHIONS</td>\n",
       "      <td>1</td>\n",
       "      <td>2011-09-25 12:22:00</td>\n",
       "      <td>0.000</td>\n",
       "      <td>16133</td>\n",
       "      <td>United Kingdom</td>\n",
       "      <td>0</td>\n",
       "    </tr>\n",
       "    <tr>\n",
       "      <th>359871</th>\n",
       "      <td>568200</td>\n",
       "      <td>PADS</td>\n",
       "      <td>PADS TO MATCH ALL CUSHIONS</td>\n",
       "      <td>1</td>\n",
       "      <td>2011-09-25 14:58:00</td>\n",
       "      <td>0.001</td>\n",
       "      <td>16198</td>\n",
       "      <td>United Kingdom</td>\n",
       "      <td>0</td>\n",
       "    </tr>\n",
       "  </tbody>\n",
       "</table>\n",
       "</div>"
      ],
      "text/plain": [
       "       InvoiceNo StockCode                 Description  Quantity  \\\n",
       "157195    550193      PADS  PADS TO MATCH ALL CUSHIONS         1   \n",
       "279045    561226      PADS  PADS TO MATCH ALL CUSHIONS         1   \n",
       "358655    568158      PADS  PADS TO MATCH ALL CUSHIONS         1   \n",
       "359871    568200      PADS  PADS TO MATCH ALL CUSHIONS         1   \n",
       "\n",
       "               InvoiceDate  UnitPrice CustomerID         Country  Cancelled  \n",
       "157195 2011-04-15 09:27:00      0.001      13952  United Kingdom          0  \n",
       "279045 2011-07-26 10:13:00      0.001      15618  United Kingdom          0  \n",
       "358655 2011-09-25 12:22:00      0.000      16133  United Kingdom          0  \n",
       "359871 2011-09-25 14:58:00      0.001      16198  United Kingdom          0  "
      ]
     },
     "execution_count": 33,
     "metadata": {},
     "output_type": "execute_result"
    }
   ],
   "source": [
    "df.query(\"StockCode=='PADS'\")"
   ]
  },
  {
   "cell_type": "code",
   "execution_count": 34,
   "id": "9741299b-debc-41c6-a211-2b91fa11aac2",
   "metadata": {
    "tags": []
   },
   "outputs": [],
   "source": [
    "filter_ = df[df['StockCode'].str.isalpha()]['StockCode'].index\n",
    "\n",
    "df = df.drop(filter_,axis=0)           "
   ]
  },
  {
   "cell_type": "code",
   "execution_count": null,
   "id": "13d2fedc-7cbb-4aca-967a-b486f3427cae",
   "metadata": {
    "tags": []
   },
   "outputs": [],
   "source": [
    "\n"
   ]
  },
  {
   "cell_type": "code",
   "execution_count": null,
   "id": "aa2f593c-ef0a-43a4-ba40-5a97364d4ef9",
   "metadata": {
    "tags": []
   },
   "outputs": [],
   "source": []
  },
  {
   "cell_type": "code",
   "execution_count": null,
   "id": "06328507-2255-40ae-a3bc-fe6b7bfbc8b5",
   "metadata": {
    "tags": []
   },
   "outputs": [],
   "source": []
  },
  {
   "cell_type": "code",
   "execution_count": 35,
   "id": "a26b377c-c0f7-48d1-aa1d-3abb3e407282",
   "metadata": {
    "tags": []
   },
   "outputs": [],
   "source": [
    "df_cleaned = df.copy(deep = True)\n",
    "df_cleaned['QuantityCanceled'] = 0\n",
    "\n",
    "entry_to_remove = [] ; doubtfull_entry = []\n",
    "\n",
    "for index, col in  df.iterrows():\n",
    "    if (col['Quantity'] > 0) or col['Description'] == 'Discount': continue        \n",
    "    df_test = df[(df['CustomerID'] == col['CustomerID']) &\n",
    "                         (df['StockCode']  == col['StockCode']) & \n",
    "                         (df['InvoiceDate'] < col['InvoiceDate']) & \n",
    "                         (df['Quantity']   > 0)].copy()\n",
    "\n",
    "    # Cancelation WITHOUT counterpart\n",
    "    if (df_test.shape[0] == 0): \n",
    "        doubtfull_entry.append(index)\n",
    "\n",
    "    # Cancelation WITH a counterpart\n",
    "    elif (df_test.shape[0] == 1): \n",
    "        index_order = df_test.index[0]\n",
    "        df_cleaned.loc[index_order, 'QuantityCanceled'] = -col['Quantity']\n",
    "        entry_to_remove.append(index)        \n",
    "\n",
    "    # Various counterparts exist in orders: we delete the last one\n",
    "    elif (df_test.shape[0] > 1): \n",
    "        df_test.sort_index(axis=0 ,ascending=False, inplace = True)        \n",
    "        for ind, val in df_test.iterrows():\n",
    "            if val['Quantity'] < -col['Quantity']: continue\n",
    "            df_cleaned.loc[ind, 'QuantityCanceled'] = -col['Quantity']\n",
    "            entry_to_remove.append(index) \n",
    "            break         "
   ]
  },
  {
   "cell_type": "code",
   "execution_count": 36,
   "id": "81ca784f-27f2-4253-8aae-72f585ba0cba",
   "metadata": {
    "tags": []
   },
   "outputs": [
    {
     "data": {
      "text/html": [
       "<div>\n",
       "<style scoped>\n",
       "    .dataframe tbody tr th:only-of-type {\n",
       "        vertical-align: middle;\n",
       "    }\n",
       "\n",
       "    .dataframe tbody tr th {\n",
       "        vertical-align: top;\n",
       "    }\n",
       "\n",
       "    .dataframe thead th {\n",
       "        text-align: right;\n",
       "    }\n",
       "</style>\n",
       "<table border=\"1\" class=\"dataframe\">\n",
       "  <thead>\n",
       "    <tr style=\"text-align: right;\">\n",
       "      <th></th>\n",
       "      <th>InvoiceNo</th>\n",
       "      <th>StockCode</th>\n",
       "      <th>Description</th>\n",
       "      <th>Quantity</th>\n",
       "      <th>InvoiceDate</th>\n",
       "      <th>UnitPrice</th>\n",
       "      <th>CustomerID</th>\n",
       "      <th>Country</th>\n",
       "      <th>Cancelled</th>\n",
       "      <th>QuantityCanceled</th>\n",
       "    </tr>\n",
       "  </thead>\n",
       "  <tbody>\n",
       "    <tr>\n",
       "      <th>154</th>\n",
       "      <td>C536383</td>\n",
       "      <td>35004C</td>\n",
       "      <td>SET OF 3 COLOURED FLYING DUCKS</td>\n",
       "      <td>-1</td>\n",
       "      <td>2010-12-01 09:49:00</td>\n",
       "      <td>4.65</td>\n",
       "      <td>15311</td>\n",
       "      <td>United Kingdom</td>\n",
       "      <td>1</td>\n",
       "      <td>0</td>\n",
       "    </tr>\n",
       "    <tr>\n",
       "      <th>235</th>\n",
       "      <td>C536391</td>\n",
       "      <td>22556</td>\n",
       "      <td>PLASTERS IN TIN CIRCUS PARADE</td>\n",
       "      <td>-12</td>\n",
       "      <td>2010-12-01 10:24:00</td>\n",
       "      <td>1.65</td>\n",
       "      <td>17548</td>\n",
       "      <td>United Kingdom</td>\n",
       "      <td>1</td>\n",
       "      <td>0</td>\n",
       "    </tr>\n",
       "    <tr>\n",
       "      <th>236</th>\n",
       "      <td>C536391</td>\n",
       "      <td>21984</td>\n",
       "      <td>PACK OF 12 PINK PAISLEY TISSUES</td>\n",
       "      <td>-24</td>\n",
       "      <td>2010-12-01 10:24:00</td>\n",
       "      <td>0.29</td>\n",
       "      <td>17548</td>\n",
       "      <td>United Kingdom</td>\n",
       "      <td>1</td>\n",
       "      <td>0</td>\n",
       "    </tr>\n",
       "    <tr>\n",
       "      <th>237</th>\n",
       "      <td>C536391</td>\n",
       "      <td>21983</td>\n",
       "      <td>PACK OF 12 BLUE PAISLEY TISSUES</td>\n",
       "      <td>-24</td>\n",
       "      <td>2010-12-01 10:24:00</td>\n",
       "      <td>0.29</td>\n",
       "      <td>17548</td>\n",
       "      <td>United Kingdom</td>\n",
       "      <td>1</td>\n",
       "      <td>0</td>\n",
       "    </tr>\n",
       "    <tr>\n",
       "      <th>238</th>\n",
       "      <td>C536391</td>\n",
       "      <td>21980</td>\n",
       "      <td>PACK OF 12 RED RETROSPOT TISSUES</td>\n",
       "      <td>-24</td>\n",
       "      <td>2010-12-01 10:24:00</td>\n",
       "      <td>0.29</td>\n",
       "      <td>17548</td>\n",
       "      <td>United Kingdom</td>\n",
       "      <td>1</td>\n",
       "      <td>0</td>\n",
       "    </tr>\n",
       "    <tr>\n",
       "      <th>...</th>\n",
       "      <td>...</td>\n",
       "      <td>...</td>\n",
       "      <td>...</td>\n",
       "      <td>...</td>\n",
       "      <td>...</td>\n",
       "      <td>...</td>\n",
       "      <td>...</td>\n",
       "      <td>...</td>\n",
       "      <td>...</td>\n",
       "      <td>...</td>\n",
       "    </tr>\n",
       "    <tr>\n",
       "      <th>540448</th>\n",
       "      <td>C581490</td>\n",
       "      <td>22178</td>\n",
       "      <td>VICTORIAN GLASS HANGING T-LIGHT</td>\n",
       "      <td>-12</td>\n",
       "      <td>2011-12-09 09:57:00</td>\n",
       "      <td>1.95</td>\n",
       "      <td>14397</td>\n",
       "      <td>United Kingdom</td>\n",
       "      <td>1</td>\n",
       "      <td>0</td>\n",
       "    </tr>\n",
       "    <tr>\n",
       "      <th>540449</th>\n",
       "      <td>C581490</td>\n",
       "      <td>23144</td>\n",
       "      <td>ZINC T-LIGHT HOLDER STARS SMALL</td>\n",
       "      <td>-11</td>\n",
       "      <td>2011-12-09 09:57:00</td>\n",
       "      <td>0.83</td>\n",
       "      <td>14397</td>\n",
       "      <td>United Kingdom</td>\n",
       "      <td>1</td>\n",
       "      <td>0</td>\n",
       "    </tr>\n",
       "    <tr>\n",
       "      <th>541715</th>\n",
       "      <td>C581568</td>\n",
       "      <td>21258</td>\n",
       "      <td>VICTORIAN SEWING BOX LARGE</td>\n",
       "      <td>-5</td>\n",
       "      <td>2011-12-09 11:57:00</td>\n",
       "      <td>10.95</td>\n",
       "      <td>15311</td>\n",
       "      <td>United Kingdom</td>\n",
       "      <td>1</td>\n",
       "      <td>0</td>\n",
       "    </tr>\n",
       "    <tr>\n",
       "      <th>541716</th>\n",
       "      <td>C581569</td>\n",
       "      <td>84978</td>\n",
       "      <td>HANGING HEART JAR T-LIGHT HOLDER</td>\n",
       "      <td>-1</td>\n",
       "      <td>2011-12-09 11:58:00</td>\n",
       "      <td>1.25</td>\n",
       "      <td>17315</td>\n",
       "      <td>United Kingdom</td>\n",
       "      <td>1</td>\n",
       "      <td>0</td>\n",
       "    </tr>\n",
       "    <tr>\n",
       "      <th>541717</th>\n",
       "      <td>C581569</td>\n",
       "      <td>20979</td>\n",
       "      <td>36 PENCILS TUBE RED RETROSPOT</td>\n",
       "      <td>-5</td>\n",
       "      <td>2011-12-09 11:58:00</td>\n",
       "      <td>1.25</td>\n",
       "      <td>17315</td>\n",
       "      <td>United Kingdom</td>\n",
       "      <td>1</td>\n",
       "      <td>0</td>\n",
       "    </tr>\n",
       "  </tbody>\n",
       "</table>\n",
       "<p>8479 rows × 10 columns</p>\n",
       "</div>"
      ],
      "text/plain": [
       "       InvoiceNo StockCode                       Description  Quantity  \\\n",
       "154      C536383    35004C    SET OF 3 COLOURED FLYING DUCKS        -1   \n",
       "235      C536391     22556     PLASTERS IN TIN CIRCUS PARADE       -12   \n",
       "236      C536391     21984   PACK OF 12 PINK PAISLEY TISSUES       -24   \n",
       "237      C536391     21983   PACK OF 12 BLUE PAISLEY TISSUES       -24   \n",
       "238      C536391     21980  PACK OF 12 RED RETROSPOT TISSUES       -24   \n",
       "...          ...       ...                               ...       ...   \n",
       "540448   C581490     22178   VICTORIAN GLASS HANGING T-LIGHT       -12   \n",
       "540449   C581490     23144   ZINC T-LIGHT HOLDER STARS SMALL       -11   \n",
       "541715   C581568     21258        VICTORIAN SEWING BOX LARGE        -5   \n",
       "541716   C581569     84978  HANGING HEART JAR T-LIGHT HOLDER        -1   \n",
       "541717   C581569     20979     36 PENCILS TUBE RED RETROSPOT        -5   \n",
       "\n",
       "               InvoiceDate  UnitPrice CustomerID         Country  Cancelled  \\\n",
       "154    2010-12-01 09:49:00       4.65      15311  United Kingdom          1   \n",
       "235    2010-12-01 10:24:00       1.65      17548  United Kingdom          1   \n",
       "236    2010-12-01 10:24:00       0.29      17548  United Kingdom          1   \n",
       "237    2010-12-01 10:24:00       0.29      17548  United Kingdom          1   \n",
       "238    2010-12-01 10:24:00       0.29      17548  United Kingdom          1   \n",
       "...                    ...        ...        ...             ...        ...   \n",
       "540448 2011-12-09 09:57:00       1.95      14397  United Kingdom          1   \n",
       "540449 2011-12-09 09:57:00       0.83      14397  United Kingdom          1   \n",
       "541715 2011-12-09 11:57:00      10.95      15311  United Kingdom          1   \n",
       "541716 2011-12-09 11:58:00       1.25      17315  United Kingdom          1   \n",
       "541717 2011-12-09 11:58:00       1.25      17315  United Kingdom          1   \n",
       "\n",
       "        QuantityCanceled  \n",
       "154                    0  \n",
       "235                    0  \n",
       "236                    0  \n",
       "237                    0  \n",
       "238                    0  \n",
       "...                  ...  \n",
       "540448                 0  \n",
       "540449                 0  \n",
       "541715                 0  \n",
       "541716                 0  \n",
       "541717                 0  \n",
       "\n",
       "[8479 rows x 10 columns]"
      ]
     },
     "execution_count": 36,
     "metadata": {},
     "output_type": "execute_result"
    }
   ],
   "source": [
    "df_cleaned.query(\"Quantity<=0\")"
   ]
  },
  {
   "cell_type": "code",
   "execution_count": 37,
   "id": "18f08785-e4f1-4ee6-8d17-541d4acf3195",
   "metadata": {
    "tags": []
   },
   "outputs": [],
   "source": [
    "df_backup = df_cleaned.copy()"
   ]
  },
  {
   "cell_type": "code",
   "execution_count": 38,
   "id": "68b31d9e-61a0-4002-9651-a2810b2db091",
   "metadata": {
    "tags": []
   },
   "outputs": [
    {
     "data": {
      "text/html": [
       "<div>\n",
       "<style scoped>\n",
       "    .dataframe tbody tr th:only-of-type {\n",
       "        vertical-align: middle;\n",
       "    }\n",
       "\n",
       "    .dataframe tbody tr th {\n",
       "        vertical-align: top;\n",
       "    }\n",
       "\n",
       "    .dataframe thead th {\n",
       "        text-align: right;\n",
       "    }\n",
       "</style>\n",
       "<table border=\"1\" class=\"dataframe\">\n",
       "  <thead>\n",
       "    <tr style=\"text-align: right;\">\n",
       "      <th></th>\n",
       "      <th>InvoiceNo</th>\n",
       "      <th>StockCode</th>\n",
       "      <th>Description</th>\n",
       "      <th>Quantity</th>\n",
       "      <th>InvoiceDate</th>\n",
       "      <th>UnitPrice</th>\n",
       "      <th>CustomerID</th>\n",
       "      <th>Country</th>\n",
       "      <th>Cancelled</th>\n",
       "    </tr>\n",
       "  </thead>\n",
       "  <tbody>\n",
       "    <tr>\n",
       "      <th>18246</th>\n",
       "      <td>C537812</td>\n",
       "      <td>21843</td>\n",
       "      <td>RED RETROSPOT CAKE STAND</td>\n",
       "      <td>-10</td>\n",
       "      <td>2010-12-08 13:33:00</td>\n",
       "      <td>9.95</td>\n",
       "      <td>14299</td>\n",
       "      <td>United Kingdom</td>\n",
       "      <td>1</td>\n",
       "    </tr>\n",
       "    <tr>\n",
       "      <th>19822</th>\n",
       "      <td>537895</td>\n",
       "      <td>21843</td>\n",
       "      <td>RED RETROSPOT CAKE STAND</td>\n",
       "      <td>24</td>\n",
       "      <td>2010-12-09 10:30:00</td>\n",
       "      <td>9.95</td>\n",
       "      <td>14299</td>\n",
       "      <td>United Kingdom</td>\n",
       "      <td>0</td>\n",
       "    </tr>\n",
       "    <tr>\n",
       "      <th>38935</th>\n",
       "      <td>C539598</td>\n",
       "      <td>21843</td>\n",
       "      <td>RED RETROSPOT CAKE STAND</td>\n",
       "      <td>-11</td>\n",
       "      <td>2010-12-20 13:54:00</td>\n",
       "      <td>9.95</td>\n",
       "      <td>14299</td>\n",
       "      <td>United Kingdom</td>\n",
       "      <td>1</td>\n",
       "    </tr>\n",
       "    <tr>\n",
       "      <th>45949</th>\n",
       "      <td>540345</td>\n",
       "      <td>21843</td>\n",
       "      <td>RED RETROSPOT CAKE STAND</td>\n",
       "      <td>8</td>\n",
       "      <td>2011-01-06 13:19:00</td>\n",
       "      <td>10.95</td>\n",
       "      <td>14299</td>\n",
       "      <td>United Kingdom</td>\n",
       "      <td>0</td>\n",
       "    </tr>\n",
       "    <tr>\n",
       "      <th>52398</th>\n",
       "      <td>C540780</td>\n",
       "      <td>21843</td>\n",
       "      <td>RED RETROSPOT CAKE STAND</td>\n",
       "      <td>-4</td>\n",
       "      <td>2011-01-11 11:19:00</td>\n",
       "      <td>10.95</td>\n",
       "      <td>14299</td>\n",
       "      <td>United Kingdom</td>\n",
       "      <td>1</td>\n",
       "    </tr>\n",
       "  </tbody>\n",
       "</table>\n",
       "</div>"
      ],
      "text/plain": [
       "      InvoiceNo StockCode               Description  Quantity  \\\n",
       "18246   C537812     21843  RED RETROSPOT CAKE STAND       -10   \n",
       "19822    537895     21843  RED RETROSPOT CAKE STAND        24   \n",
       "38935   C539598     21843  RED RETROSPOT CAKE STAND       -11   \n",
       "45949    540345     21843  RED RETROSPOT CAKE STAND         8   \n",
       "52398   C540780     21843  RED RETROSPOT CAKE STAND        -4   \n",
       "\n",
       "              InvoiceDate  UnitPrice CustomerID         Country  Cancelled  \n",
       "18246 2010-12-08 13:33:00       9.95      14299  United Kingdom          1  \n",
       "19822 2010-12-09 10:30:00       9.95      14299  United Kingdom          0  \n",
       "38935 2010-12-20 13:54:00       9.95      14299  United Kingdom          1  \n",
       "45949 2011-01-06 13:19:00      10.95      14299  United Kingdom          0  \n",
       "52398 2011-01-11 11:19:00      10.95      14299  United Kingdom          1  "
      ]
     },
     "execution_count": 38,
     "metadata": {},
     "output_type": "execute_result"
    }
   ],
   "source": [
    "df.query(\"Description=='RED RETROSPOT CAKE STAND' & CustomerID=='14299'\")"
   ]
  },
  {
   "cell_type": "code",
   "execution_count": 39,
   "id": "9202e662-13b6-4b07-812a-fc65a43002f9",
   "metadata": {
    "tags": []
   },
   "outputs": [
    {
     "data": {
      "text/html": [
       "<div>\n",
       "<style scoped>\n",
       "    .dataframe tbody tr th:only-of-type {\n",
       "        vertical-align: middle;\n",
       "    }\n",
       "\n",
       "    .dataframe tbody tr th {\n",
       "        vertical-align: top;\n",
       "    }\n",
       "\n",
       "    .dataframe thead th {\n",
       "        text-align: right;\n",
       "    }\n",
       "</style>\n",
       "<table border=\"1\" class=\"dataframe\">\n",
       "  <thead>\n",
       "    <tr style=\"text-align: right;\">\n",
       "      <th></th>\n",
       "      <th>InvoiceNo</th>\n",
       "      <th>StockCode</th>\n",
       "      <th>Description</th>\n",
       "      <th>Quantity</th>\n",
       "      <th>InvoiceDate</th>\n",
       "      <th>UnitPrice</th>\n",
       "      <th>CustomerID</th>\n",
       "      <th>Country</th>\n",
       "      <th>Cancelled</th>\n",
       "      <th>QuantityCanceled</th>\n",
       "    </tr>\n",
       "  </thead>\n",
       "  <tbody>\n",
       "    <tr>\n",
       "      <th>18246</th>\n",
       "      <td>C537812</td>\n",
       "      <td>21843</td>\n",
       "      <td>RED RETROSPOT CAKE STAND</td>\n",
       "      <td>-10</td>\n",
       "      <td>2010-12-08 13:33:00</td>\n",
       "      <td>9.95</td>\n",
       "      <td>14299</td>\n",
       "      <td>United Kingdom</td>\n",
       "      <td>1</td>\n",
       "      <td>0</td>\n",
       "    </tr>\n",
       "    <tr>\n",
       "      <th>19822</th>\n",
       "      <td>537895</td>\n",
       "      <td>21843</td>\n",
       "      <td>RED RETROSPOT CAKE STAND</td>\n",
       "      <td>24</td>\n",
       "      <td>2010-12-09 10:30:00</td>\n",
       "      <td>9.95</td>\n",
       "      <td>14299</td>\n",
       "      <td>United Kingdom</td>\n",
       "      <td>0</td>\n",
       "      <td>11</td>\n",
       "    </tr>\n",
       "    <tr>\n",
       "      <th>38935</th>\n",
       "      <td>C539598</td>\n",
       "      <td>21843</td>\n",
       "      <td>RED RETROSPOT CAKE STAND</td>\n",
       "      <td>-11</td>\n",
       "      <td>2010-12-20 13:54:00</td>\n",
       "      <td>9.95</td>\n",
       "      <td>14299</td>\n",
       "      <td>United Kingdom</td>\n",
       "      <td>1</td>\n",
       "      <td>0</td>\n",
       "    </tr>\n",
       "    <tr>\n",
       "      <th>45949</th>\n",
       "      <td>540345</td>\n",
       "      <td>21843</td>\n",
       "      <td>RED RETROSPOT CAKE STAND</td>\n",
       "      <td>8</td>\n",
       "      <td>2011-01-06 13:19:00</td>\n",
       "      <td>10.95</td>\n",
       "      <td>14299</td>\n",
       "      <td>United Kingdom</td>\n",
       "      <td>0</td>\n",
       "      <td>4</td>\n",
       "    </tr>\n",
       "    <tr>\n",
       "      <th>52398</th>\n",
       "      <td>C540780</td>\n",
       "      <td>21843</td>\n",
       "      <td>RED RETROSPOT CAKE STAND</td>\n",
       "      <td>-4</td>\n",
       "      <td>2011-01-11 11:19:00</td>\n",
       "      <td>10.95</td>\n",
       "      <td>14299</td>\n",
       "      <td>United Kingdom</td>\n",
       "      <td>1</td>\n",
       "      <td>0</td>\n",
       "    </tr>\n",
       "  </tbody>\n",
       "</table>\n",
       "</div>"
      ],
      "text/plain": [
       "      InvoiceNo StockCode               Description  Quantity  \\\n",
       "18246   C537812     21843  RED RETROSPOT CAKE STAND       -10   \n",
       "19822    537895     21843  RED RETROSPOT CAKE STAND        24   \n",
       "38935   C539598     21843  RED RETROSPOT CAKE STAND       -11   \n",
       "45949    540345     21843  RED RETROSPOT CAKE STAND         8   \n",
       "52398   C540780     21843  RED RETROSPOT CAKE STAND        -4   \n",
       "\n",
       "              InvoiceDate  UnitPrice CustomerID         Country  Cancelled  \\\n",
       "18246 2010-12-08 13:33:00       9.95      14299  United Kingdom          1   \n",
       "19822 2010-12-09 10:30:00       9.95      14299  United Kingdom          0   \n",
       "38935 2010-12-20 13:54:00       9.95      14299  United Kingdom          1   \n",
       "45949 2011-01-06 13:19:00      10.95      14299  United Kingdom          0   \n",
       "52398 2011-01-11 11:19:00      10.95      14299  United Kingdom          1   \n",
       "\n",
       "       QuantityCanceled  \n",
       "18246                 0  \n",
       "19822                11  \n",
       "38935                 0  \n",
       "45949                 4  \n",
       "52398                 0  "
      ]
     },
     "execution_count": 39,
     "metadata": {},
     "output_type": "execute_result"
    }
   ],
   "source": [
    "df_cleaned.query(\"Description=='RED RETROSPOT CAKE STAND' & CustomerID=='14299'\")"
   ]
  },
  {
   "cell_type": "code",
   "execution_count": 40,
   "id": "dbe60a68-23de-4fc8-8a23-f364c155fcd2",
   "metadata": {
    "tags": []
   },
   "outputs": [],
   "source": [
    "df_cleaned['Quantity']=df_cleaned['Quantity']-df_cleaned['QuantityCanceled']"
   ]
  },
  {
   "cell_type": "code",
   "execution_count": 41,
   "id": "d3caa372-f666-4ee0-a948-c6b8721c1917",
   "metadata": {
    "tags": []
   },
   "outputs": [
    {
     "data": {
      "text/plain": [
       "[0         False\n",
       " 1         False\n",
       " 2         False\n",
       " 3         False\n",
       " 4         False\n",
       "           ...  \n",
       " 541904    False\n",
       " 541905    False\n",
       " 541906    False\n",
       " 541907    False\n",
       " 541908    False\n",
       " Name: Quantity, Length: 394999, dtype: bool]"
      ]
     },
     "execution_count": 41,
     "metadata": {},
     "output_type": "execute_result"
    }
   ],
   "source": [
    "[df_cleaned['Quantity']<0]"
   ]
  },
  {
   "cell_type": "code",
   "execution_count": 42,
   "id": "6c169ab4-7209-4504-ae96-c7bb3166e270",
   "metadata": {
    "tags": []
   },
   "outputs": [],
   "source": [
    "df_cleaned = df_cleaned.drop(df_cleaned.query(\"Quantity<0\").index, axis=0)"
   ]
  },
  {
   "cell_type": "code",
   "execution_count": null,
   "id": "53be04af-ff86-444e-a6ee-28c1b82fbbb4",
   "metadata": {
    "tags": []
   },
   "outputs": [],
   "source": []
  },
  {
   "cell_type": "code",
   "execution_count": 43,
   "id": "b7e8f6f1-5a67-4c85-b86c-02857c49fb58",
   "metadata": {
    "tags": []
   },
   "outputs": [],
   "source": [
    "df_cleaned = df_cleaned.drop(['QuantityCanceled', 'Cancelled'], axis=1)"
   ]
  },
  {
   "cell_type": "code",
   "execution_count": null,
   "id": "4f2e66af-02f9-4b87-9282-760ad7c3423d",
   "metadata": {},
   "outputs": [],
   "source": []
  },
  {
   "cell_type": "code",
   "execution_count": 44,
   "id": "d0ea52d2-9c71-4674-8d81-712894901f43",
   "metadata": {
    "tags": []
   },
   "outputs": [],
   "source": [
    "df_cleaned.to_pickle(\"data/data_cleaned.pkl\")  "
   ]
  }
 ],
 "metadata": {
  "kernelspec": {
   "display_name": "Python 3 (ipykernel)",
   "language": "python",
   "name": "python3"
  },
  "language_info": {
   "codemirror_mode": {
    "name": "ipython",
    "version": 3
   },
   "file_extension": ".py",
   "mimetype": "text/x-python",
   "name": "python",
   "nbconvert_exporter": "python",
   "pygments_lexer": "ipython3",
   "version": "3.11.3"
  }
 },
 "nbformat": 4,
 "nbformat_minor": 5
}
