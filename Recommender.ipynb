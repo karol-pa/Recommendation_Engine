{
 "cells": [
  {
   "cell_type": "code",
   "execution_count": 13,
   "id": "d3a1b1d3-e80c-49bc-8c01-b320eda601c5",
   "metadata": {
    "tags": []
   },
   "outputs": [
    {
     "data": {
      "text/html": [
       "<style>\n",
       "    .yellow {\n",
       "        background-color: #eddd6e;\n",
       "    }\n",
       "</style>\n"
      ],
      "text/plain": [
       "<IPython.core.display.HTML object>"
      ]
     },
     "metadata": {},
     "output_type": "display_data"
    }
   ],
   "source": [
    "%%html\n",
    "<style>\n",
    "    .yellow {\n",
    "        background-color: #eddd6e;\n",
    "    }\n",
    "</style>"
   ]
  },
  {
   "cell_type": "markdown",
   "id": "d240a002-cfb1-4850-ad05-d7943fba62f1",
   "metadata": {
    "tags": []
   },
   "source": [
    "\n",
    "### A Recommendation engine for recommending product bundles\n",
    "\n",
    "In this notebook, I develop a recommendation engine for an online shop and evaluate the results. I want to recommend products to the customers that might be interesting to buy in bundles.\n",
    "The original dataset is taken from [Kaggle](https://www.kaggle.com/datasets/carrie1/ecommerce-data). \n",
    "\n",
    "The data has been cleaned in the [EDA_and_cleaning.ipynb](EDA_and_cleaning.ipynb) notebook, which you can find in the same directory as this notebook.\n",
    "\n"
   ]
  },
  {
   "cell_type": "markdown",
   "id": "66179440-ef1a-48f6-afb8-85dbf1d4361d",
   "metadata": {
    "tags": []
   },
   "source": [
    "<a id='TOC'/>\n",
    "\n",
    "## Table of Content (TOC)\n",
    "1. [Introduction (the plan):](#intro)\n",
    "2. [Imports](#imports)\n",
    "3. [Product Segmentation](#product_segmentation)\n",
    "4. [Recommendations for one customer based on his purchases](#test_rec)\n",
    "5. [Train/Test Split](#split)\n",
    "6. [Method 1: Recommending one product each from several top categories](#m1)\n",
    "7. [Method 2: Recommending several products from the top 1 category](#m2)\n",
    "8. [Method 3: (For business impact evaluation) recommending products **randomly**](#m3)\n",
    "9. [Conclusion](#conclusion)\n"
   ]
  },
  {
   "cell_type": "markdown",
   "id": "fd8c2f8e-0007-4d1b-9937-83c33637b6de",
   "metadata": {},
   "source": [
    "<a id='intro'/>\n",
    "\n",
    "## Introduction (the plan):\n",
    "[back to TOC](#TOC)\n",
    "\n",
    "The dataset contains two main types of information that can be leveraged for a recommendation system.\n",
    "1. Product `Description`s: Each product is described in words. \n",
    "2. `CustomerID` information: Each purchase is associated with the respective customer\n",
    "3. Information about items, their quantity and price that were bought together\n",
    "\n",
    "Number 1 enables us to segment products into classes of products.\\\n",
    "Number 2 allows us then to (a) identify customers with similar interests, and (b) associate products and classes of products with those customers.\n",
    "\n",
    "By combining 1 and 2, one can, for each customer A\n",
    "- identify another customer B that has the most similar interests to customer A\n",
    "- identify the product classes associated with customer A's purchased items\n",
    "- recommend products from these classes to customer B \n",
    "\n",
    "For the product segmentation, I create word embeddings from the `Describtion` column and apply an Agglomerative Clustering algorithm to group the products into classes.\\\n",
    "The customer similarity is quantified using the concept of cosine similarity to find each customer's \"next neighbor\".\n",
    "\n",
    "For the final recommendation, I test two methods:\n",
    "1. I identify the TOP 5 product-classes (i.e. the product classes from which the most purchases were made) of the \"next neighbor\" and recommend one product from each category.\n",
    "2. I identify the single TOP product-class of the \"next neighbor\" and recommend 5 products from this class.\n",
    "\n",
    "The methods are also tested against a \"dummy\" model, whis is: 5 products are drawn from a random product-class.\n",
    "\n",
    "\n"
   ]
  },
  {
   "cell_type": "markdown",
   "id": "460e0b07-7ef2-4184-9eb8-584a3cd8c6e7",
   "metadata": {},
   "source": [
    "<a id='imports'/>\n",
    "\n",
    "## Imports\n",
    "\n",
    "[back to TOC](#TOC)"
   ]
  },
  {
   "cell_type": "code",
   "execution_count": 1,
   "id": "a2a37ff7-ce04-456b-a2b9-e08de4ff78b0",
   "metadata": {
    "tags": []
   },
   "outputs": [
    {
     "name": "stderr",
     "output_type": "stream",
     "text": [
      "[nltk_data] Downloading package stopwords to /home/karol/nltk_data...\n",
      "[nltk_data]   Package stopwords is already up-to-date!\n"
     ]
    }
   ],
   "source": [
    "import pandas as pd\n",
    "import numpy as np\n",
    "import matplotlib.pyplot as plt\n",
    "\n",
    "\n",
    "import re\n",
    "import nltk\n",
    "nltk.download('stopwords')\n",
    "from nltk.corpus import stopwords\n",
    "\n",
    "import gensim.downloader\n",
    "\n",
    "from sklearn.preprocessing import StandardScaler\n",
    "from sklearn.manifold import TSNE\n",
    "from sklearn.decomposition import PCA\n",
    "from sklearn.cluster import AgglomerativeClustering\n",
    "from sklearn.metrics import  silhouette_score\n",
    "from sklearn.metrics.pairwise import cosine_similarity"
   ]
  },
  {
   "cell_type": "code",
   "execution_count": 2,
   "id": "3f45ece1-0080-4a8f-955d-7d87a767d78e",
   "metadata": {
    "tags": []
   },
   "outputs": [],
   "source": [
    "df0 = pd.read_pickle(\"data/data_cleaned.pkl\")  "
   ]
  },
  {
   "cell_type": "markdown",
   "id": "784590da-76a6-4078-a625-991050138a57",
   "metadata": {},
   "source": [
    "<a id='#product_segmentation'/>\n",
    "\n",
    "## Product Segmentation\n",
    "\n",
    "[back to TOC](#TOC)"
   ]
  },
  {
   "cell_type": "code",
   "execution_count": 3,
   "id": "b5432212-a7f0-4dea-be08-cbef9a6f965b",
   "metadata": {
    "tags": []
   },
   "outputs": [],
   "source": [
    "unique_descriptions=df0['Description'].unique()"
   ]
  },
  {
   "cell_type": "markdown",
   "id": "1a4cfbab-9168-4359-b95c-cf74751a0d6d",
   "metadata": {},
   "source": [
    "<div class=\"yellow\">\n",
    "Here, a relatively small set of word vectors is downloaded for the word embeddings. \n",
    "</div>"
   ]
  },
  {
   "cell_type": "code",
   "execution_count": 4,
   "id": "5d7203d4-247d-4a75-88a0-047f9d0caba0",
   "metadata": {
    "tags": []
   },
   "outputs": [],
   "source": [
    "glove_vectors = gensim.downloader.load('glove-wiki-gigaword-50')"
   ]
  },
  {
   "cell_type": "code",
   "execution_count": 5,
   "id": "ab5e3f5e-2fc3-471b-b8b7-2296381754c9",
   "metadata": {
    "tags": []
   },
   "outputs": [],
   "source": [
    "# Preprocess the data\n",
    "descriptions = []\n",
    "for description in unique_descriptions:\n",
    "    # Removing punctuation and special characters\n",
    "    description = description.lower()\n",
    "    description = re.sub(r'[^A-Za-z0-9]+', ' ', description)\n",
    "    # Removing the stopwords\n",
    "    stop = stopwords.words('english')\n",
    "    description = description.split()\n",
    "    resultwords  = [word for word in description if word.lower() not in stop]\n",
    "    descriptions.append(\" \".join(resultwords))"
   ]
  },
  {
   "cell_type": "markdown",
   "id": "24481924-050c-4b03-9d91-8ae83b3b5068",
   "metadata": {},
   "source": [
    "<div class=\"yellow\">\n",
    "    \n",
    "Next is a function that calculates the embeddings for the whole `Description` by summing up the embedding of ach word und dividing it by the sum of words in the `Description`.\n",
    "    \n",
    "</div>"
   ]
  },
  {
   "cell_type": "code",
   "execution_count": 6,
   "id": "99fcdfa5-f500-4a58-ae08-00c30dfc24c4",
   "metadata": {
    "tags": []
   },
   "outputs": [],
   "source": [
    "def description_vectorizer(description, model):\n",
    "    description_vec =[]\n",
    "    numw = 0\n",
    "    values = description.split()\n",
    "    for w in values:\n",
    "        try:\n",
    "            if numw == 0:\n",
    "                description_vec = model[w]\n",
    "            else:\n",
    "                description_vec = np.add(description_vec, model[w])\n",
    "            numw+=1\n",
    "        except:\n",
    "            pass\n",
    "    \n",
    "    return np.asarray(description_vec) / numw\n",
    "  \n",
    "# saving the embeddings in a list X\n",
    "X=[]\n",
    "for description in descriptions:\n",
    "    X.append(description_vectorizer(description, glove_vectors))   \n",
    "    \n",
    "    \n",
    "    \n",
    "imputed_X = []\n",
    "for x in X:\n",
    "    if x.size == 0:\n",
    "      imputed_X.append(np.array([0, 0, 0]))\n",
    "    else:\n",
    "      imputed_X.append(x)\n",
    "#imputed_X \n",
    "X =    imputed_X.copy() "
   ]
  },
  {
   "cell_type": "code",
   "execution_count": 117,
   "id": "545f1fc7-5204-4d61-a4bc-2bbc3c68339b",
   "metadata": {
    "tags": []
   },
   "outputs": [],
   "source": [
    "# StandardScaler to scale the data \n",
    "scaler = StandardScaler()\n",
    "X_scaled = scaler.fit_transform(X)\n",
    "\n",
    "# PCA for dimensionality reduction\n",
    "pca_ = PCA(0.99, random_state=0)\n",
    "X_pca=pca_.fit_transform(X_scaled)"
   ]
  },
  {
   "cell_type": "markdown",
   "id": "b531cd10-fb8d-4655-98dc-8af524505e1a",
   "metadata": {},
   "source": [
    "<div class=\"yellow\">\n",
    "To find ~the optimal~ cluster size distribution, I first employ the silhouette score method and follow it up by evaluating how the average distance between the clusters changes with the number of clusters.\n",
    "</div>"
   ]
  },
  {
   "cell_type": "code",
   "execution_count": 8,
   "id": "35767717-dbc7-44dc-849c-1d9829e9f1ed",
   "metadata": {
    "tags": []
   },
   "outputs": [
    {
     "name": "stdout",
     "output_type": "stream",
     "text": [
      "For i= 5 clusters the silhouette_score is : -0.005795163377968173\n",
      "For i= 15 clusters the silhouette_score is : 0.014944641574111297\n",
      "For i= 25 clusters the silhouette_score is : 0.020089766944954096\n",
      "For i= 35 clusters the silhouette_score is : 0.017632087635464713\n",
      "For i= 45 clusters the silhouette_score is : 0.019005005659977328\n",
      "For i= 55 clusters the silhouette_score is : 0.025448068146844045\n",
      "For i= 65 clusters the silhouette_score is : 0.026792025684023658\n",
      "For i= 75 clusters the silhouette_score is : 0.032961632507502545\n",
      "For i= 85 clusters the silhouette_score is : 0.035703755197148836\n",
      "For i= 95 clusters the silhouette_score is : 0.036248650152219286\n",
      "For i= 105 clusters the silhouette_score is : 0.0419172754840826\n",
      "For i= 115 clusters the silhouette_score is : 0.04396325878837736\n",
      "For i= 125 clusters the silhouette_score is : 0.050328162011988066\n",
      "For i= 135 clusters the silhouette_score is : 0.05311845292910373\n",
      "For i= 145 clusters the silhouette_score is : 0.05583715025020168\n",
      "For i= 155 clusters the silhouette_score is : 0.059680040701323024\n",
      "For i= 165 clusters the silhouette_score is : 0.05954884475118899\n",
      "For i= 175 clusters the silhouette_score is : 0.061518424763212926\n",
      "For i= 185 clusters the silhouette_score is : 0.06213620443479623\n",
      "For i= 195 clusters the silhouette_score is : 0.06428940394445108\n",
      "For i= 205 clusters the silhouette_score is : 0.0686684052191318\n",
      "For i= 215 clusters the silhouette_score is : 0.07263876688502875\n",
      "For i= 225 clusters the silhouette_score is : 0.07496112204100333\n",
      "For i= 235 clusters the silhouette_score is : 0.07880291150600896\n",
      "For i= 245 clusters the silhouette_score is : 0.08149988646367763\n",
      "For i= 255 clusters the silhouette_score is : 0.08499638113384715\n",
      "For i= 265 clusters the silhouette_score is : 0.08671442779653481\n",
      "For i= 275 clusters the silhouette_score is : 0.08856570803599682\n",
      "For i= 285 clusters the silhouette_score is : 0.088446121519647\n",
      "For i= 295 clusters the silhouette_score is : 0.09118906683913731\n",
      "For i= 305 clusters the silhouette_score is : 0.09326506750454469\n",
      "For i= 315 clusters the silhouette_score is : 0.09627835126514653\n",
      "For i= 325 clusters the silhouette_score is : 0.09840558267846324\n",
      "For i= 335 clusters the silhouette_score is : 0.10080141581451026\n",
      "For i= 345 clusters the silhouette_score is : 0.10385701656607282\n",
      "For i= 355 clusters the silhouette_score is : 0.10617064404350242\n",
      "For i= 365 clusters the silhouette_score is : 0.10860719426458847\n",
      "For i= 375 clusters the silhouette_score is : 0.11162400926018655\n",
      "For i= 385 clusters the silhouette_score is : 0.11414772605602995\n",
      "For i= 395 clusters the silhouette_score is : 0.11596941813108835\n",
      "For i= 405 clusters the silhouette_score is : 0.11768174428725217\n",
      "For i= 415 clusters the silhouette_score is : 0.11983619180914339\n",
      "For i= 425 clusters the silhouette_score is : 0.12213956090777521\n",
      "For i= 435 clusters the silhouette_score is : 0.12458822266454202\n",
      "For i= 445 clusters the silhouette_score is : 0.12568853592615767\n",
      "For i= 455 clusters the silhouette_score is : 0.12749878575971257\n",
      "For i= 465 clusters the silhouette_score is : 0.12965511092881415\n",
      "For i= 475 clusters the silhouette_score is : 0.1314522314211057\n",
      "For i= 485 clusters the silhouette_score is : 0.13277792050012618\n",
      "For i= 495 clusters the silhouette_score is : 0.13474185043436826\n",
      "For i= 505 clusters the silhouette_score is : 0.13588698001802013\n",
      "For i= 515 clusters the silhouette_score is : 0.13839431662402257\n",
      "For i= 525 clusters the silhouette_score is : 0.14012153351890533\n",
      "For i= 535 clusters the silhouette_score is : 0.14169511506081148\n",
      "For i= 545 clusters the silhouette_score is : 0.14374591699736794\n",
      "For i= 555 clusters the silhouette_score is : 0.1456470824368097\n",
      "For i= 565 clusters the silhouette_score is : 0.14686570616791889\n",
      "For i= 575 clusters the silhouette_score is : 0.14872660667484144\n",
      "For i= 585 clusters the silhouette_score is : 0.1501483480681595\n",
      "For i= 595 clusters the silhouette_score is : 0.15116531352114015\n",
      "For i= 605 clusters the silhouette_score is : 0.15091118318493307\n",
      "For i= 615 clusters the silhouette_score is : 0.15245685514331556\n",
      "For i= 625 clusters the silhouette_score is : 0.15360649536571172\n",
      "For i= 635 clusters the silhouette_score is : 0.15442717959677135\n",
      "For i= 645 clusters the silhouette_score is : 0.1560335948465099\n",
      "For i= 655 clusters the silhouette_score is : 0.15793510850521397\n",
      "For i= 665 clusters the silhouette_score is : 0.15957251193605398\n",
      "For i= 675 clusters the silhouette_score is : 0.16075113610701652\n",
      "For i= 685 clusters the silhouette_score is : 0.16200155263796304\n",
      "For i= 695 clusters the silhouette_score is : 0.163020427590651\n",
      "For i= 705 clusters the silhouette_score is : 0.16490224704068476\n",
      "For i= 715 clusters the silhouette_score is : 0.16632323207414965\n",
      "For i= 725 clusters the silhouette_score is : 0.16770671869546505\n",
      "For i= 735 clusters the silhouette_score is : 0.1686754232131735\n",
      "For i= 745 clusters the silhouette_score is : 0.16999332721471153\n",
      "For i= 755 clusters the silhouette_score is : 0.17160655698375707\n",
      "For i= 765 clusters the silhouette_score is : 0.17239792989094377\n",
      "For i= 775 clusters the silhouette_score is : 0.1731574578084409\n",
      "For i= 785 clusters the silhouette_score is : 0.17414022653872566\n",
      "For i= 795 clusters the silhouette_score is : 0.1759376874742259\n",
      "For i= 805 clusters the silhouette_score is : 0.17692010196975577\n",
      "For i= 815 clusters the silhouette_score is : 0.177711785635645\n",
      "For i= 825 clusters the silhouette_score is : 0.17897416888497503\n",
      "For i= 835 clusters the silhouette_score is : 0.17994166596853997\n",
      "For i= 845 clusters the silhouette_score is : 0.18146538885769334\n",
      "For i= 855 clusters the silhouette_score is : 0.18216090386148248\n",
      "For i= 865 clusters the silhouette_score is : 0.18270773635392154\n",
      "For i= 875 clusters the silhouette_score is : 0.18402093127073446\n",
      "For i= 885 clusters the silhouette_score is : 0.18458289575057651\n",
      "For i= 895 clusters the silhouette_score is : 0.18627257662444038\n",
      "For i= 905 clusters the silhouette_score is : 0.18713994448643598\n",
      "For i= 915 clusters the silhouette_score is : 0.18810484961336546\n",
      "For i= 925 clusters the silhouette_score is : 0.18957839826573714\n",
      "For i= 935 clusters the silhouette_score is : 0.19069898013646733\n",
      "For i= 945 clusters the silhouette_score is : 0.1914097150399455\n",
      "For i= 955 clusters the silhouette_score is : 0.19263150580554156\n",
      "For i= 965 clusters the silhouette_score is : 0.1934723494805337\n",
      "For i= 975 clusters the silhouette_score is : 0.1944904017667109\n",
      "For i= 985 clusters the silhouette_score is : 0.1951302018246797\n",
      "For i= 995 clusters the silhouette_score is : 0.19611057820615202\n"
     ]
    }
   ],
   "source": [
    "silhouette = []\n",
    "\n",
    "for i in range(5, 1000, 10):\n",
    "    clusters = AgglomerativeClustering(n_clusters=i, linkage='ward')\n",
    "    clusters.fit(X_pca)\n",
    "    silhouette_sc = silhouette_score(X_pca, clusters.labels_)\n",
    "    silhouette.append(silhouette_sc)\n",
    "    print(\"For i=\", i, \"clusters the silhouette_score is :\", silhouette_sc)\n",
    "    \n",
    "    \n"
   ]
  },
  {
   "cell_type": "code",
   "execution_count": 9,
   "id": "a941eeea-4ece-492a-b4f3-a40b5e00aeb4",
   "metadata": {
    "tags": []
   },
   "outputs": [
    {
     "data": {
      "image/png": "[encoded data removed]",
      "text/plain": [
       "<Figure size 640x480 with 1 Axes>"
      ]
     },
     "metadata": {},
     "output_type": "display_data"
    }
   ],
   "source": [
    "x_full = range(5, 1000, 10)\n",
    "\n",
    "x_top = range(500, 1000, 10)\n",
    "y_top = silhouette[50:]\n",
    "a_top, b_top = np.polyfit(x_top, y_top, 1)\n",
    "\n",
    "x_bottom = range(5, 200, 10)\n",
    "y_bottom = silhouette[:20]\n",
    "a_bottom, b_bottom = np.polyfit(x_bottom, y_bottom, 1)\n",
    "\n",
    "\n",
    "plt.plot(x_full, silhouette)\n",
    "plt.plot(x_full, a_top*x_full+b_top)\n",
    "plt.plot(x_full, a_bottom*x_full+b_bottom)\n",
    "plt.vlines(x=355, ymin=0, ymax=0.125, colors='blue', ls=':', lw=2, label='stop')\n",
    "\n",
    "\n",
    "plt.title('Silhouette Scores')\n",
    "plt.xlabel('Number of clusters')\n",
    "plt.ylabel('Silhouette Score')\n",
    "plt.show()"
   ]
  },
  {
   "cell_type": "markdown",
   "id": "e8f4548c-3bee-4480-b01e-a29c72e7fe68",
   "metadata": {},
   "source": [
    "<div class=\"yellow\">\n",
    "We can see that there are no clear jumps in the silhouette score, but a continuous trend from a higher slope to a smaller one. Here, I define two regions in the graph that I assume to be linear and find an approximate point for the transition from low to high silhouette score values.\n",
    "\n",
    "The analysis suggests a cluster number of approx. 355.\n",
    "</div>"
   ]
  },
  {
   "cell_type": "code",
   "execution_count": 10,
   "id": "6eb75b10-b8c8-41c2-8dc5-1abf6a70f18c",
   "metadata": {
    "tags": []
   },
   "outputs": [
    {
     "data": {
      "image/png": "[encoded data removed]",
      "text/plain": [
       "<Figure size 640x480 with 1 Axes>"
      ]
     },
     "metadata": {},
     "output_type": "display_data"
    },
    {
     "data": {
      "image/png": "[encoded data removed]",
      "text/plain": [
       "<Figure size 640x480 with 1 Axes>"
      ]
     },
     "metadata": {},
     "output_type": "display_data"
    }
   ],
   "source": [
    "# Calculating the average distance between clusters as function of number of clusters\n",
    "\n",
    "clusters = AgglomerativeClustering(distance_threshold=0, n_clusters=None)\n",
    "clusters.fit(X_pca)\n",
    "\n",
    "plt.ylim(0, 5)\n",
    "plt.xlim(0, 1500)\n",
    "\n",
    "x_full = np.linspace(0, len(clusters.distances_), len(clusters.distances_))\n",
    "y_full = clusters.distances_\n",
    "x_top = x_full[1000:2000]\n",
    "y_top = clusters.distances_[1000:2000]\n",
    "a_top, b_top = np.polyfit(x_top, y_top, 1)\n",
    "\n",
    "\n",
    "# plot the cluster distance\n",
    "\n",
    "plt.plot(x_full, y_full)\n",
    "plt.plot(x_full, 1.6+x_full* 0.0023)\n",
    "plt.vlines(x=355, ymin=0, ymax=2.5, colors='blue', ls=':', lw=2, label='stop')\n",
    "\n",
    "plt.show()\n",
    "\n",
    "# plot the first derivative of the cluster distance\n",
    "\n",
    "plt.ylim(0, 0.05)\n",
    "plt.xlim(200, 500)\n",
    "plt.plot(x_full, np.gradient(y_full, x_full))\n",
    "\n",
    "plt.vlines(x=345, ymin=0, ymax=0.02, colors='blue', ls=':', lw=2, label='stop')\n",
    "plt.vlines(x=370, ymin=0, ymax=0.02, colors='blue', ls=':', lw=2, label='stop')\n",
    "\n",
    "plt.show()\n",
    "\n"
   ]
  },
  {
   "cell_type": "markdown",
   "id": "a762487a-edb7-4cbc-b95c-f6fbf6b48c17",
   "metadata": {},
   "source": [
    "<div class=\"yellow\">\n",
    "We can see that there is a cluster number range (345 to 370) where the cluster distances do not change. This we can go with the previously determined custer number of 355.\n",
    "</div>"
   ]
  },
  {
   "cell_type": "code",
   "execution_count": 11,
   "id": "d2119b8b-1b9b-4d5f-8a7d-52cfad795309",
   "metadata": {
    "tags": []
   },
   "outputs": [
    {
     "data": {
      "text/html": [
       "<style>#sk-container-id-1 {color: black;background-color: white;}#sk-container-id-1 pre{padding: 0;}#sk-container-id-1 div.sk-toggleable {background-color: white;}#sk-container-id-1 label.sk-toggleable__label {cursor: pointer;display: block;width: 100%;margin-bottom: 0;padding: 0.3em;box-sizing: border-box;text-align: center;}#sk-container-id-1 label.sk-toggleable__label-arrow:before {content: \"▸\";float: left;margin-right: 0.25em;color: #696969;}#sk-container-id-1 label.sk-toggleable__label-arrow:hover:before {color: black;}#sk-container-id-1 div.sk-estimator:hover label.sk-toggleable__label-arrow:before {color: black;}#sk-container-id-1 div.sk-toggleable__content {max-height: 0;max-width: 0;overflow: hidden;text-align: left;background-color: #f0f8ff;}#sk-container-id-1 div.sk-toggleable__content pre {margin: 0.2em;color: black;border-radius: 0.25em;background-color: #f0f8ff;}#sk-container-id-1 input.sk-toggleable__control:checked~div.sk-toggleable__content {max-height: 200px;max-width: 100%;overflow: auto;}#sk-container-id-1 input.sk-toggleable__control:checked~label.sk-toggleable__label-arrow:before {content: \"▾\";}#sk-container-id-1 div.sk-estimator input.sk-toggleable__control:checked~label.sk-toggleable__label {background-color: #d4ebff;}#sk-container-id-1 div.sk-label input.sk-toggleable__control:checked~label.sk-toggleable__label {background-color: #d4ebff;}#sk-container-id-1 input.sk-hidden--visually {border: 0;clip: rect(1px 1px 1px 1px);clip: rect(1px, 1px, 1px, 1px);height: 1px;margin: -1px;overflow: hidden;padding: 0;position: absolute;width: 1px;}#sk-container-id-1 div.sk-estimator {font-family: monospace;background-color: #f0f8ff;border: 1px dotted black;border-radius: 0.25em;box-sizing: border-box;margin-bottom: 0.5em;}#sk-container-id-1 div.sk-estimator:hover {background-color: #d4ebff;}#sk-container-id-1 div.sk-parallel-item::after {content: \"\";width: 100%;border-bottom: 1px solid gray;flex-grow: 1;}#sk-container-id-1 div.sk-label:hover label.sk-toggleable__label {background-color: #d4ebff;}#sk-container-id-1 div.sk-serial::before {content: \"\";position: absolute;border-left: 1px solid gray;box-sizing: border-box;top: 0;bottom: 0;left: 50%;z-index: 0;}#sk-container-id-1 div.sk-serial {display: flex;flex-direction: column;align-items: center;background-color: white;padding-right: 0.2em;padding-left: 0.2em;position: relative;}#sk-container-id-1 div.sk-item {position: relative;z-index: 1;}#sk-container-id-1 div.sk-parallel {display: flex;align-items: stretch;justify-content: center;background-color: white;position: relative;}#sk-container-id-1 div.sk-item::before, #sk-container-id-1 div.sk-parallel-item::before {content: \"\";position: absolute;border-left: 1px solid gray;box-sizing: border-box;top: 0;bottom: 0;left: 50%;z-index: -1;}#sk-container-id-1 div.sk-parallel-item {display: flex;flex-direction: column;z-index: 1;position: relative;background-color: white;}#sk-container-id-1 div.sk-parallel-item:first-child::after {align-self: flex-end;width: 50%;}#sk-container-id-1 div.sk-parallel-item:last-child::after {align-self: flex-start;width: 50%;}#sk-container-id-1 div.sk-parallel-item:only-child::after {width: 0;}#sk-container-id-1 div.sk-dashed-wrapped {border: 1px dashed gray;margin: 0 0.4em 0.5em 0.4em;box-sizing: border-box;padding-bottom: 0.4em;background-color: white;}#sk-container-id-1 div.sk-label label {font-family: monospace;font-weight: bold;display: inline-block;line-height: 1.2em;}#sk-container-id-1 div.sk-label-container {text-align: center;}#sk-container-id-1 div.sk-container {/* jupyter's `normalize.less` sets `[hidden] { display: none; }` but bootstrap.min.css set `[hidden] { display: none !important; }` so we also need the `!important` here to be able to override the default hidden behavior on the sphinx rendered scikit-learn.org. See: https://github.com/scikit-learn/scikit-learn/issues/21755 */display: inline-block !important;position: relative;}#sk-container-id-1 div.sk-text-repr-fallback {display: none;}</style><div id=\"sk-container-id-1\" class=\"sk-top-container\"><div class=\"sk-text-repr-fallback\"><pre>AgglomerativeClustering(n_clusters=355)</pre><b>In a Jupyter environment, please rerun this cell to show the HTML representation or trust the notebook. <br />On GitHub, the HTML representation is unable to render, please try loading this page with nbviewer.org.</b></div><div class=\"sk-container\" hidden><div class=\"sk-item\"><div class=\"sk-estimator sk-toggleable\"><input class=\"sk-toggleable__control sk-hidden--visually\" id=\"sk-estimator-id-1\" type=\"checkbox\" checked><label for=\"sk-estimator-id-1\" class=\"sk-toggleable__label sk-toggleable__label-arrow\">AgglomerativeClustering</label><div class=\"sk-toggleable__content\"><pre>AgglomerativeClustering(n_clusters=355)</pre></div></div></div></div></div>"
      ],
      "text/plain": [
       "AgglomerativeClustering(n_clusters=355)"
      ]
     },
     "execution_count": 11,
     "metadata": {},
     "output_type": "execute_result"
    }
   ],
   "source": [
    "clusters = AgglomerativeClustering(n_clusters=355, linkage='ward')\n",
    "clusters.fit(X_pca)"
   ]
  },
  {
   "cell_type": "code",
   "execution_count": 12,
   "id": "4a494063-c62a-41a4-bab2-c2337550c12d",
   "metadata": {
    "tags": []
   },
   "outputs": [],
   "source": [
    "df_clusters = pd.DataFrame(unique_descriptions, clusters.labels_, columns=['Description'])\n",
    "df_clusters.index.name = 'product_class'\n",
    "df_clusters = df_clusters.reset_index()\n"
   ]
  },
  {
   "cell_type": "markdown",
   "id": "a17b49d2-a945-4d6c-884f-b8d156b53ca9",
   "metadata": {},
   "source": [
    "<div class=\"yellow\">\n",
    "Finally one has to ultimately evaluate the choice of the cluster number by looking at the results.\n",
    "</div>"
   ]
  },
  {
   "cell_type": "code",
   "execution_count": 13,
   "id": "c7e8c338-d77b-4ea5-8d2e-1d4b361bf092",
   "metadata": {
    "tags": []
   },
   "outputs": [
    {
     "data": {
      "text/html": [
       "<div>\n",
       "<style scoped>\n",
       "    .dataframe tbody tr th:only-of-type {\n",
       "        vertical-align: middle;\n",
       "    }\n",
       "\n",
       "    .dataframe tbody tr th {\n",
       "        vertical-align: top;\n",
       "    }\n",
       "\n",
       "    .dataframe thead th {\n",
       "        text-align: right;\n",
       "    }\n",
       "</style>\n",
       "<table border=\"1\" class=\"dataframe\">\n",
       "  <thead>\n",
       "    <tr style=\"text-align: right;\">\n",
       "      <th></th>\n",
       "      <th>product_class</th>\n",
       "      <th>Description</th>\n",
       "    </tr>\n",
       "  </thead>\n",
       "  <tbody>\n",
       "    <tr>\n",
       "      <th>108</th>\n",
       "      <td>319</td>\n",
       "      <td>DOORMAT FANCY FONT HOME SWEET HOME</td>\n",
       "    </tr>\n",
       "    <tr>\n",
       "      <th>722</th>\n",
       "      <td>319</td>\n",
       "      <td>DOORMAT SPOTTY HOME SWEET HOME</td>\n",
       "    </tr>\n",
       "    <tr>\n",
       "      <th>801</th>\n",
       "      <td>319</td>\n",
       "      <td>MAGNETS PACK OF 4 HOME SWEET HOME</td>\n",
       "    </tr>\n",
       "    <tr>\n",
       "      <th>909</th>\n",
       "      <td>319</td>\n",
       "      <td>HOME SWEET HOME MUG</td>\n",
       "    </tr>\n",
       "    <tr>\n",
       "      <th>1366</th>\n",
       "      <td>319</td>\n",
       "      <td>HOME SWEET HOME METAL SIGN</td>\n",
       "    </tr>\n",
       "    <tr>\n",
       "      <th>1670</th>\n",
       "      <td>319</td>\n",
       "      <td>DOORMAT HOME SWEET HOME BLUE</td>\n",
       "    </tr>\n",
       "    <tr>\n",
       "      <th>2038</th>\n",
       "      <td>319</td>\n",
       "      <td>PAPERWEIGHT HOME SWEET HOME</td>\n",
       "    </tr>\n",
       "    <tr>\n",
       "      <th>3502</th>\n",
       "      <td>319</td>\n",
       "      <td>SET OF 2 TRAYS HOME SWEET HOME</td>\n",
       "    </tr>\n",
       "    <tr>\n",
       "      <th>3503</th>\n",
       "      <td>319</td>\n",
       "      <td>HOME SWEET HOME CUSHION COVER</td>\n",
       "    </tr>\n",
       "    <tr>\n",
       "      <th>3504</th>\n",
       "      <td>319</td>\n",
       "      <td>STOOL HOME SWEET HOME</td>\n",
       "    </tr>\n",
       "    <tr>\n",
       "      <th>3505</th>\n",
       "      <td>319</td>\n",
       "      <td>FOOT STOOL HOME SWEET HOME</td>\n",
       "    </tr>\n",
       "    <tr>\n",
       "      <th>3507</th>\n",
       "      <td>319</td>\n",
       "      <td>HOME SWEET HOME HANGING HEART</td>\n",
       "    </tr>\n",
       "    <tr>\n",
       "      <th>3511</th>\n",
       "      <td>319</td>\n",
       "      <td>HOME SWEET HOME BLACKBOARD</td>\n",
       "    </tr>\n",
       "    <tr>\n",
       "      <th>3513</th>\n",
       "      <td>319</td>\n",
       "      <td>HOME SWEET HOME KEY HOLDER</td>\n",
       "    </tr>\n",
       "    <tr>\n",
       "      <th>3514</th>\n",
       "      <td>319</td>\n",
       "      <td>ZINC BOX SIGN HOME</td>\n",
       "    </tr>\n",
       "    <tr>\n",
       "      <th>3515</th>\n",
       "      <td>319</td>\n",
       "      <td>HOME SWEET HOME 2 DRAWER CABINET</td>\n",
       "    </tr>\n",
       "    <tr>\n",
       "      <th>3519</th>\n",
       "      <td>319</td>\n",
       "      <td>HOME SWEEET HOME 3 PEG HANGER</td>\n",
       "    </tr>\n",
       "    <tr>\n",
       "      <th>3520</th>\n",
       "      <td>319</td>\n",
       "      <td>LETTER HOLDER HOME SWEET HOME</td>\n",
       "    </tr>\n",
       "    <tr>\n",
       "      <th>3523</th>\n",
       "      <td>319</td>\n",
       "      <td>STORAGE TIN HOME SWEET HOME</td>\n",
       "    </tr>\n",
       "    <tr>\n",
       "      <th>3526</th>\n",
       "      <td>319</td>\n",
       "      <td>SHELF WITH 4 HOOKS HOME SWEET HOME</td>\n",
       "    </tr>\n",
       "    <tr>\n",
       "      <th>3531</th>\n",
       "      <td>319</td>\n",
       "      <td>HOME SWEET HOME HOOK</td>\n",
       "    </tr>\n",
       "    <tr>\n",
       "      <th>3533</th>\n",
       "      <td>319</td>\n",
       "      <td>HOME SWEET HOME 3 PEG HANGER</td>\n",
       "    </tr>\n",
       "    <tr>\n",
       "      <th>3545</th>\n",
       "      <td>319</td>\n",
       "      <td>HOME SWEET HOME BOTTLE</td>\n",
       "    </tr>\n",
       "  </tbody>\n",
       "</table>\n",
       "</div>"
      ],
      "text/plain": [
       "      product_class                         Description\n",
       "108             319  DOORMAT FANCY FONT HOME SWEET HOME\n",
       "722             319      DOORMAT SPOTTY HOME SWEET HOME\n",
       "801             319   MAGNETS PACK OF 4 HOME SWEET HOME\n",
       "909             319                 HOME SWEET HOME MUG\n",
       "1366            319          HOME SWEET HOME METAL SIGN\n",
       "1670            319        DOORMAT HOME SWEET HOME BLUE\n",
       "2038            319         PAPERWEIGHT HOME SWEET HOME\n",
       "3502            319      SET OF 2 TRAYS HOME SWEET HOME\n",
       "3503            319       HOME SWEET HOME CUSHION COVER\n",
       "3504            319               STOOL HOME SWEET HOME\n",
       "3505            319          FOOT STOOL HOME SWEET HOME\n",
       "3507            319       HOME SWEET HOME HANGING HEART\n",
       "3511            319          HOME SWEET HOME BLACKBOARD\n",
       "3513            319          HOME SWEET HOME KEY HOLDER\n",
       "3514            319                  ZINC BOX SIGN HOME\n",
       "3515            319    HOME SWEET HOME 2 DRAWER CABINET\n",
       "3519            319       HOME SWEEET HOME 3 PEG HANGER\n",
       "3520            319       LETTER HOLDER HOME SWEET HOME\n",
       "3523            319         STORAGE TIN HOME SWEET HOME\n",
       "3526            319  SHELF WITH 4 HOOKS HOME SWEET HOME\n",
       "3531            319                HOME SWEET HOME HOOK\n",
       "3533            319        HOME SWEET HOME 3 PEG HANGER\n",
       "3545            319              HOME SWEET HOME BOTTLE"
      ]
     },
     "execution_count": 13,
     "metadata": {},
     "output_type": "execute_result"
    }
   ],
   "source": [
    "df_clusters[df_clusters['product_class']==319] "
   ]
  },
  {
   "cell_type": "markdown",
   "id": "b22f6950-4cd5-441e-be77-4bcb9fa00763",
   "metadata": {},
   "source": [
    "<div class=\"yellow\">\n",
    "In this example (and others too) the clustering has made sense.\n",
    "</div>"
   ]
  },
  {
   "cell_type": "markdown",
   "id": "25c50be9-e5fa-4447-9fc8-7ba39c4ca43d",
   "metadata": {},
   "source": [
    "<a id='test_rec'/>\n",
    "\n",
    "## Recommendations for one customer based on his purchases\n",
    "\n",
    "[back to TOC](#TOC)\n",
    "\n",
    "Next, I demonstrate the my solution on one **test**-customer  "
   ]
  },
  {
   "cell_type": "code",
   "execution_count": 14,
   "id": "dab6c3d7-b61c-436d-91f7-4487d9cca149",
   "metadata": {
    "tags": []
   },
   "outputs": [],
   "source": [
    "df1 = pd.merge(df0, df_clusters, on='Description', how='left')"
   ]
  },
  {
   "cell_type": "markdown",
   "id": "f13b5c4a-e61c-4dd2-af9c-e7f4dc9c11e8",
   "metadata": {},
   "source": [
    "<div class=\"yellow\">\n",
    "One-Hot encode customer v.s product matrix \n",
    "</div>"
   ]
  },
  {
   "cell_type": "code",
   "execution_count": 15,
   "id": "2c2bc6e8-a133-40f2-8a76-8e3e82293995",
   "metadata": {
    "tags": []
   },
   "outputs": [],
   "source": [
    "df_purchases = pd.crosstab(df0['CustomerID'],df0['Description'])\n",
    "df_purchases = df_purchases.gt(0).astype(int)"
   ]
  },
  {
   "cell_type": "markdown",
   "id": "a5b28834-2455-4771-b0a6-11e4eb66cfd7",
   "metadata": {
    "tags": []
   },
   "source": [
    "<div class=\"yellow\">\n",
    "The idea is, that a fraction of the customer's actually purchased products $P$ is set to zero and thus becomes a target for prediction. The logic behind that is that if a customer bought a product $P$, the recommendation algorithm should be able to predict that the customer is interested in $P$. So, If my method recommends products that match the products $P$, it will count as success. \n",
    "</div>"
   ]
  },
  {
   "cell_type": "code",
   "execution_count": 16,
   "id": "8067b451-b1e7-494e-8ce1-fe77747949fe",
   "metadata": {
    "tags": []
   },
   "outputs": [],
   "source": [
    "# we have to first select a customar, for which we will create recommendations\n",
    "row = df_purchases.loc['18287'].copy()\n",
    "\n",
    "# count the number of columns with value 1\n",
    "num_ones = row.sum()\n",
    "\n",
    "# calculate the number of columns to set to 0\n",
    "num_col_to_set_0 = int(round(0.3 * num_ones,0))\n",
    "\n",
    "# randomly select columns which have value 1 to set to 0\n",
    "cols_to_set_0 = row[row == 1].sample(n=num_col_to_set_0, random_state=77) \n",
    "\n",
    "# update the row with zeros\n",
    "row.update(cols_to_set_0.map(lambda x: 0))\n",
    "\n",
    "# put the modified customer row back into the DataFrame\n",
    "df_purchases.loc['test'] = row\n",
    "\n",
    "\n"
   ]
  },
  {
   "cell_type": "markdown",
   "id": "614d8ddc-72c6-4d25-9e4c-3234691e415a",
   "metadata": {},
   "source": [
    "<div class=\"yellow\">\n",
    "The resulting customer v.s product matrix looks like this:\n",
    "</div>"
   ]
  },
  {
   "cell_type": "code",
   "execution_count": 17,
   "id": "2a78e1f4-73c0-4891-ae6e-ea14e0fc52fb",
   "metadata": {
    "tags": []
   },
   "outputs": [
    {
     "data": {
      "text/html": [
       "<div>\n",
       "<style scoped>\n",
       "    .dataframe tbody tr th:only-of-type {\n",
       "        vertical-align: middle;\n",
       "    }\n",
       "\n",
       "    .dataframe tbody tr th {\n",
       "        vertical-align: top;\n",
       "    }\n",
       "\n",
       "    .dataframe thead th {\n",
       "        text-align: right;\n",
       "    }\n",
       "</style>\n",
       "<table border=\"1\" class=\"dataframe\">\n",
       "  <thead>\n",
       "    <tr style=\"text-align: right;\">\n",
       "      <th>Description</th>\n",
       "      <th>10 COLOUR SPACEBOY PEN</th>\n",
       "      <th>12 COLOURED PARTY BALLOONS</th>\n",
       "      <th>12 DAISY PEGS IN WOOD BOX</th>\n",
       "      <th>12 EGG HOUSE PAINTED WOOD</th>\n",
       "      <th>12 HANGING EGGS HAND PAINTED</th>\n",
       "      <th>12 IVORY ROSE PEG PLACE SETTINGS</th>\n",
       "      <th>12 MESSAGE CARDS WITH ENVELOPES</th>\n",
       "      <th>12 PENCIL SMALL TUBE WOODLAND</th>\n",
       "      <th>12 PENCILS SMALL TUBE RED RETROSPOT</th>\n",
       "      <th>12 PENCILS SMALL TUBE SKULL</th>\n",
       "      <th>...</th>\n",
       "      <th>ZINC STAR T-LIGHT HOLDER</th>\n",
       "      <th>ZINC SWEETHEART SOAP DISH</th>\n",
       "      <th>ZINC SWEETHEART WIRE LETTER RACK</th>\n",
       "      <th>ZINC T-LIGHT HOLDER STAR LARGE</th>\n",
       "      <th>ZINC T-LIGHT HOLDER STARS LARGE</th>\n",
       "      <th>ZINC T-LIGHT HOLDER STARS SMALL</th>\n",
       "      <th>ZINC TOP 2 DOOR WOODEN SHELF</th>\n",
       "      <th>ZINC WILLIE WINKIE CANDLE STICK</th>\n",
       "      <th>ZINC WIRE KITCHEN ORGANISER</th>\n",
       "      <th>ZINC WIRE SWEETHEART LETTER TRAY</th>\n",
       "    </tr>\n",
       "    <tr>\n",
       "      <th>CustomerID</th>\n",
       "      <th></th>\n",
       "      <th></th>\n",
       "      <th></th>\n",
       "      <th></th>\n",
       "      <th></th>\n",
       "      <th></th>\n",
       "      <th></th>\n",
       "      <th></th>\n",
       "      <th></th>\n",
       "      <th></th>\n",
       "      <th></th>\n",
       "      <th></th>\n",
       "      <th></th>\n",
       "      <th></th>\n",
       "      <th></th>\n",
       "      <th></th>\n",
       "      <th></th>\n",
       "      <th></th>\n",
       "      <th></th>\n",
       "      <th></th>\n",
       "      <th></th>\n",
       "    </tr>\n",
       "  </thead>\n",
       "  <tbody>\n",
       "    <tr>\n",
       "      <th>18281</th>\n",
       "      <td>0</td>\n",
       "      <td>0</td>\n",
       "      <td>0</td>\n",
       "      <td>0</td>\n",
       "      <td>0</td>\n",
       "      <td>0</td>\n",
       "      <td>0</td>\n",
       "      <td>0</td>\n",
       "      <td>0</td>\n",
       "      <td>0</td>\n",
       "      <td>...</td>\n",
       "      <td>0</td>\n",
       "      <td>0</td>\n",
       "      <td>0</td>\n",
       "      <td>0</td>\n",
       "      <td>0</td>\n",
       "      <td>0</td>\n",
       "      <td>0</td>\n",
       "      <td>0</td>\n",
       "      <td>0</td>\n",
       "      <td>0</td>\n",
       "    </tr>\n",
       "    <tr>\n",
       "      <th>18282</th>\n",
       "      <td>0</td>\n",
       "      <td>0</td>\n",
       "      <td>0</td>\n",
       "      <td>0</td>\n",
       "      <td>0</td>\n",
       "      <td>0</td>\n",
       "      <td>0</td>\n",
       "      <td>0</td>\n",
       "      <td>0</td>\n",
       "      <td>0</td>\n",
       "      <td>...</td>\n",
       "      <td>0</td>\n",
       "      <td>0</td>\n",
       "      <td>0</td>\n",
       "      <td>0</td>\n",
       "      <td>0</td>\n",
       "      <td>0</td>\n",
       "      <td>0</td>\n",
       "      <td>0</td>\n",
       "      <td>0</td>\n",
       "      <td>0</td>\n",
       "    </tr>\n",
       "    <tr>\n",
       "      <th>18283</th>\n",
       "      <td>1</td>\n",
       "      <td>0</td>\n",
       "      <td>0</td>\n",
       "      <td>0</td>\n",
       "      <td>0</td>\n",
       "      <td>0</td>\n",
       "      <td>0</td>\n",
       "      <td>1</td>\n",
       "      <td>0</td>\n",
       "      <td>1</td>\n",
       "      <td>...</td>\n",
       "      <td>0</td>\n",
       "      <td>0</td>\n",
       "      <td>0</td>\n",
       "      <td>0</td>\n",
       "      <td>0</td>\n",
       "      <td>0</td>\n",
       "      <td>0</td>\n",
       "      <td>0</td>\n",
       "      <td>0</td>\n",
       "      <td>0</td>\n",
       "    </tr>\n",
       "    <tr>\n",
       "      <th>18287</th>\n",
       "      <td>0</td>\n",
       "      <td>0</td>\n",
       "      <td>0</td>\n",
       "      <td>0</td>\n",
       "      <td>0</td>\n",
       "      <td>0</td>\n",
       "      <td>0</td>\n",
       "      <td>0</td>\n",
       "      <td>0</td>\n",
       "      <td>0</td>\n",
       "      <td>...</td>\n",
       "      <td>0</td>\n",
       "      <td>0</td>\n",
       "      <td>0</td>\n",
       "      <td>0</td>\n",
       "      <td>0</td>\n",
       "      <td>0</td>\n",
       "      <td>0</td>\n",
       "      <td>0</td>\n",
       "      <td>0</td>\n",
       "      <td>0</td>\n",
       "    </tr>\n",
       "    <tr>\n",
       "      <th>test</th>\n",
       "      <td>0</td>\n",
       "      <td>0</td>\n",
       "      <td>0</td>\n",
       "      <td>0</td>\n",
       "      <td>0</td>\n",
       "      <td>0</td>\n",
       "      <td>0</td>\n",
       "      <td>0</td>\n",
       "      <td>0</td>\n",
       "      <td>0</td>\n",
       "      <td>...</td>\n",
       "      <td>0</td>\n",
       "      <td>0</td>\n",
       "      <td>0</td>\n",
       "      <td>0</td>\n",
       "      <td>0</td>\n",
       "      <td>0</td>\n",
       "      <td>0</td>\n",
       "      <td>0</td>\n",
       "      <td>0</td>\n",
       "      <td>0</td>\n",
       "    </tr>\n",
       "  </tbody>\n",
       "</table>\n",
       "<p>5 rows × 3838 columns</p>\n",
       "</div>"
      ],
      "text/plain": [
       "Description  10 COLOUR SPACEBOY PEN  12 COLOURED PARTY BALLOONS  \\\n",
       "CustomerID                                                        \n",
       "18281                             0                           0   \n",
       "18282                             0                           0   \n",
       "18283                             1                           0   \n",
       "18287                             0                           0   \n",
       "test                              0                           0   \n",
       "\n",
       "Description  12 DAISY PEGS IN WOOD BOX  12 EGG HOUSE PAINTED WOOD  \\\n",
       "CustomerID                                                          \n",
       "18281                                0                          0   \n",
       "18282                                0                          0   \n",
       "18283                                0                          0   \n",
       "18287                                0                          0   \n",
       "test                                 0                          0   \n",
       "\n",
       "Description  12 HANGING EGGS HAND PAINTED  12 IVORY ROSE PEG PLACE SETTINGS  \\\n",
       "CustomerID                                                                    \n",
       "18281                                   0                                 0   \n",
       "18282                                   0                                 0   \n",
       "18283                                   0                                 0   \n",
       "18287                                   0                                 0   \n",
       "test                                    0                                 0   \n",
       "\n",
       "Description  12 MESSAGE CARDS WITH ENVELOPES  12 PENCIL SMALL TUBE WOODLAND  \\\n",
       "CustomerID                                                                    \n",
       "18281                                      0                              0   \n",
       "18282                                      0                              0   \n",
       "18283                                      0                              1   \n",
       "18287                                      0                              0   \n",
       "test                                       0                              0   \n",
       "\n",
       "Description  12 PENCILS SMALL TUBE RED RETROSPOT  12 PENCILS SMALL TUBE SKULL  \\\n",
       "CustomerID                                                                      \n",
       "18281                                          0                            0   \n",
       "18282                                          0                            0   \n",
       "18283                                          0                            1   \n",
       "18287                                          0                            0   \n",
       "test                                           0                            0   \n",
       "\n",
       "Description  ...  ZINC STAR T-LIGHT HOLDER  ZINC SWEETHEART SOAP DISH  \\\n",
       "CustomerID   ...                                                        \n",
       "18281        ...                         0                          0   \n",
       "18282        ...                         0                          0   \n",
       "18283        ...                         0                          0   \n",
       "18287        ...                         0                          0   \n",
       "test         ...                         0                          0   \n",
       "\n",
       "Description  ZINC SWEETHEART WIRE LETTER RACK  ZINC T-LIGHT HOLDER STAR LARGE  \\\n",
       "CustomerID                                                                      \n",
       "18281                                       0                               0   \n",
       "18282                                       0                               0   \n",
       "18283                                       0                               0   \n",
       "18287                                       0                               0   \n",
       "test                                        0                               0   \n",
       "\n",
       "Description  ZINC T-LIGHT HOLDER STARS LARGE  ZINC T-LIGHT HOLDER STARS SMALL  \\\n",
       "CustomerID                                                                      \n",
       "18281                                      0                                0   \n",
       "18282                                      0                                0   \n",
       "18283                                      0                                0   \n",
       "18287                                      0                                0   \n",
       "test                                       0                                0   \n",
       "\n",
       "Description  ZINC TOP 2 DOOR WOODEN SHELF  ZINC WILLIE WINKIE CANDLE STICK  \\\n",
       "CustomerID                                                                   \n",
       "18281                                   0                                0   \n",
       "18282                                   0                                0   \n",
       "18283                                   0                                0   \n",
       "18287                                   0                                0   \n",
       "test                                    0                                0   \n",
       "\n",
       "Description  ZINC WIRE KITCHEN ORGANISER  ZINC WIRE SWEETHEART LETTER TRAY  \n",
       "CustomerID                                                                  \n",
       "18281                                  0                                 0  \n",
       "18282                                  0                                 0  \n",
       "18283                                  0                                 0  \n",
       "18287                                  0                                 0  \n",
       "test                                   0                                 0  \n",
       "\n",
       "[5 rows x 3838 columns]"
      ]
     },
     "execution_count": 17,
     "metadata": {},
     "output_type": "execute_result"
    }
   ],
   "source": [
    "df_purchases.tail()"
   ]
  },
  {
   "cell_type": "markdown",
   "id": "2fbd79b1-e5d7-41ea-a710-c91d3d42685c",
   "metadata": {},
   "source": [
    "<div class=\"yellow\">\n",
    "Here we see that approx. 30% of the test-customer's purchases are set to 0.\n",
    "</div>"
   ]
  },
  {
   "cell_type": "code",
   "execution_count": 18,
   "id": "c34e656f-6a40-4b9b-8e3a-52210a6b63a1",
   "metadata": {
    "tags": []
   },
   "outputs": [
    {
     "name": "stdout",
     "output_type": "stream",
     "text": [
      "59\n",
      "41\n"
     ]
    }
   ],
   "source": [
    "print(df_purchases.loc['18287'].sum())\n",
    "print(df_purchases.loc['test'].sum())"
   ]
  },
  {
   "cell_type": "markdown",
   "id": "50ff8620-65cf-4a88-ab63-c24f902cc20c",
   "metadata": {},
   "source": [
    "<div class=\"yellow\">\n",
    "We have to remove the \"original version\" of the test-customer\n",
    "</div>"
   ]
  },
  {
   "cell_type": "code",
   "execution_count": 19,
   "id": "c1e5d141-5aac-42ba-915f-1ff22b645012",
   "metadata": {
    "tags": []
   },
   "outputs": [],
   "source": [
    "df_purchases = df_purchases.drop('18287', axis=0)"
   ]
  },
  {
   "cell_type": "markdown",
   "id": "71d574a1-f193-40f2-8d1b-977c4177b33c",
   "metadata": {},
   "source": [
    "<div class=\"yellow\">\n",
    "Calculate the cosine similarity between all customers\n",
    "</div>"
   ]
  },
  {
   "cell_type": "code",
   "execution_count": 20,
   "id": "2ec6f1e5-195c-498d-a9d3-a61b7f728aef",
   "metadata": {
    "tags": []
   },
   "outputs": [],
   "source": [
    "cosine_sim_table = pd.DataFrame(cosine_similarity(df_purchases), index=df_purchases.index, columns=df_purchases.index)"
   ]
  },
  {
   "cell_type": "code",
   "execution_count": 21,
   "id": "3391aefb-9b37-4824-b558-ad2f83457b1f",
   "metadata": {
    "tags": []
   },
   "outputs": [
    {
     "data": {
      "text/html": [
       "<div>\n",
       "<style scoped>\n",
       "    .dataframe tbody tr th:only-of-type {\n",
       "        vertical-align: middle;\n",
       "    }\n",
       "\n",
       "    .dataframe tbody tr th {\n",
       "        vertical-align: top;\n",
       "    }\n",
       "\n",
       "    .dataframe thead th {\n",
       "        text-align: right;\n",
       "    }\n",
       "</style>\n",
       "<table border=\"1\" class=\"dataframe\">\n",
       "  <thead>\n",
       "    <tr style=\"text-align: right;\">\n",
       "      <th>CustomerID</th>\n",
       "      <th>12346</th>\n",
       "      <th>12347</th>\n",
       "      <th>12348</th>\n",
       "      <th>12349</th>\n",
       "      <th>12350</th>\n",
       "      <th>12352</th>\n",
       "      <th>12353</th>\n",
       "      <th>12354</th>\n",
       "      <th>12355</th>\n",
       "      <th>12356</th>\n",
       "      <th>...</th>\n",
       "      <th>18273</th>\n",
       "      <th>18274</th>\n",
       "      <th>18276</th>\n",
       "      <th>18277</th>\n",
       "      <th>18278</th>\n",
       "      <th>18280</th>\n",
       "      <th>18281</th>\n",
       "      <th>18282</th>\n",
       "      <th>18283</th>\n",
       "      <th>test</th>\n",
       "    </tr>\n",
       "    <tr>\n",
       "      <th>CustomerID</th>\n",
       "      <th></th>\n",
       "      <th></th>\n",
       "      <th></th>\n",
       "      <th></th>\n",
       "      <th></th>\n",
       "      <th></th>\n",
       "      <th></th>\n",
       "      <th></th>\n",
       "      <th></th>\n",
       "      <th></th>\n",
       "      <th></th>\n",
       "      <th></th>\n",
       "      <th></th>\n",
       "      <th></th>\n",
       "      <th></th>\n",
       "      <th></th>\n",
       "      <th></th>\n",
       "      <th></th>\n",
       "      <th></th>\n",
       "      <th></th>\n",
       "      <th></th>\n",
       "    </tr>\n",
       "  </thead>\n",
       "  <tbody>\n",
       "    <tr>\n",
       "      <th>12346</th>\n",
       "      <td>1.0</td>\n",
       "      <td>0.000000</td>\n",
       "      <td>0.000000</td>\n",
       "      <td>0.000000</td>\n",
       "      <td>0.000000</td>\n",
       "      <td>0.000000</td>\n",
       "      <td>0.0</td>\n",
       "      <td>0.000000</td>\n",
       "      <td>0.000000</td>\n",
       "      <td>0.000000</td>\n",
       "      <td>...</td>\n",
       "      <td>0.0</td>\n",
       "      <td>0.000000</td>\n",
       "      <td>0.000000</td>\n",
       "      <td>0.000000</td>\n",
       "      <td>0.000000</td>\n",
       "      <td>0.000000</td>\n",
       "      <td>0.000000</td>\n",
       "      <td>0.000000</td>\n",
       "      <td>0.000000</td>\n",
       "      <td>0.000000</td>\n",
       "    </tr>\n",
       "    <tr>\n",
       "      <th>12347</th>\n",
       "      <td>0.0</td>\n",
       "      <td>1.000000</td>\n",
       "      <td>0.064505</td>\n",
       "      <td>0.046449</td>\n",
       "      <td>0.049266</td>\n",
       "      <td>0.039153</td>\n",
       "      <td>0.0</td>\n",
       "      <td>0.012938</td>\n",
       "      <td>0.136641</td>\n",
       "      <td>0.095648</td>\n",
       "      <td>...</td>\n",
       "      <td>0.0</td>\n",
       "      <td>0.029709</td>\n",
       "      <td>0.052668</td>\n",
       "      <td>0.000000</td>\n",
       "      <td>0.032844</td>\n",
       "      <td>0.062318</td>\n",
       "      <td>0.000000</td>\n",
       "      <td>0.113776</td>\n",
       "      <td>0.102705</td>\n",
       "      <td>0.015388</td>\n",
       "    </tr>\n",
       "    <tr>\n",
       "      <th>12348</th>\n",
       "      <td>0.0</td>\n",
       "      <td>0.064505</td>\n",
       "      <td>1.000000</td>\n",
       "      <td>0.000000</td>\n",
       "      <td>0.000000</td>\n",
       "      <td>0.000000</td>\n",
       "      <td>0.0</td>\n",
       "      <td>0.028653</td>\n",
       "      <td>0.121046</td>\n",
       "      <td>0.121046</td>\n",
       "      <td>...</td>\n",
       "      <td>0.0</td>\n",
       "      <td>0.065795</td>\n",
       "      <td>0.116642</td>\n",
       "      <td>0.000000</td>\n",
       "      <td>0.000000</td>\n",
       "      <td>0.000000</td>\n",
       "      <td>0.000000</td>\n",
       "      <td>0.000000</td>\n",
       "      <td>0.173937</td>\n",
       "      <td>0.034080</td>\n",
       "    </tr>\n",
       "    <tr>\n",
       "      <th>12349</th>\n",
       "      <td>0.0</td>\n",
       "      <td>0.046449</td>\n",
       "      <td>0.000000</td>\n",
       "      <td>1.000000</td>\n",
       "      <td>0.029463</td>\n",
       "      <td>0.109268</td>\n",
       "      <td>0.0</td>\n",
       "      <td>0.030949</td>\n",
       "      <td>0.032686</td>\n",
       "      <td>0.130744</td>\n",
       "      <td>...</td>\n",
       "      <td>0.0</td>\n",
       "      <td>0.106600</td>\n",
       "      <td>0.000000</td>\n",
       "      <td>0.000000</td>\n",
       "      <td>0.039284</td>\n",
       "      <td>0.000000</td>\n",
       "      <td>0.000000</td>\n",
       "      <td>0.068041</td>\n",
       "      <td>0.115615</td>\n",
       "      <td>0.000000</td>\n",
       "    </tr>\n",
       "    <tr>\n",
       "      <th>12350</th>\n",
       "      <td>0.0</td>\n",
       "      <td>0.049266</td>\n",
       "      <td>0.000000</td>\n",
       "      <td>0.029463</td>\n",
       "      <td>1.000000</td>\n",
       "      <td>0.000000</td>\n",
       "      <td>0.0</td>\n",
       "      <td>0.000000</td>\n",
       "      <td>0.000000</td>\n",
       "      <td>0.000000</td>\n",
       "      <td>...</td>\n",
       "      <td>0.0</td>\n",
       "      <td>0.000000</td>\n",
       "      <td>0.000000</td>\n",
       "      <td>0.000000</td>\n",
       "      <td>0.000000</td>\n",
       "      <td>0.000000</td>\n",
       "      <td>0.000000</td>\n",
       "      <td>0.000000</td>\n",
       "      <td>0.061314</td>\n",
       "      <td>0.000000</td>\n",
       "    </tr>\n",
       "    <tr>\n",
       "      <th>...</th>\n",
       "      <td>...</td>\n",
       "      <td>...</td>\n",
       "      <td>...</td>\n",
       "      <td>...</td>\n",
       "      <td>...</td>\n",
       "      <td>...</td>\n",
       "      <td>...</td>\n",
       "      <td>...</td>\n",
       "      <td>...</td>\n",
       "      <td>...</td>\n",
       "      <td>...</td>\n",
       "      <td>...</td>\n",
       "      <td>...</td>\n",
       "      <td>...</td>\n",
       "      <td>...</td>\n",
       "      <td>...</td>\n",
       "      <td>...</td>\n",
       "      <td>...</td>\n",
       "      <td>...</td>\n",
       "      <td>...</td>\n",
       "      <td>...</td>\n",
       "    </tr>\n",
       "    <tr>\n",
       "      <th>18280</th>\n",
       "      <td>0.0</td>\n",
       "      <td>0.062318</td>\n",
       "      <td>0.000000</td>\n",
       "      <td>0.000000</td>\n",
       "      <td>0.000000</td>\n",
       "      <td>0.000000</td>\n",
       "      <td>0.0</td>\n",
       "      <td>0.041523</td>\n",
       "      <td>0.000000</td>\n",
       "      <td>0.000000</td>\n",
       "      <td>...</td>\n",
       "      <td>0.0</td>\n",
       "      <td>0.000000</td>\n",
       "      <td>0.000000</td>\n",
       "      <td>0.000000</td>\n",
       "      <td>0.105409</td>\n",
       "      <td>1.000000</td>\n",
       "      <td>0.119523</td>\n",
       "      <td>0.000000</td>\n",
       "      <td>0.000000</td>\n",
       "      <td>0.000000</td>\n",
       "    </tr>\n",
       "    <tr>\n",
       "      <th>18281</th>\n",
       "      <td>0.0</td>\n",
       "      <td>0.000000</td>\n",
       "      <td>0.000000</td>\n",
       "      <td>0.000000</td>\n",
       "      <td>0.000000</td>\n",
       "      <td>0.000000</td>\n",
       "      <td>0.0</td>\n",
       "      <td>0.049629</td>\n",
       "      <td>0.000000</td>\n",
       "      <td>0.000000</td>\n",
       "      <td>...</td>\n",
       "      <td>0.0</td>\n",
       "      <td>0.000000</td>\n",
       "      <td>0.000000</td>\n",
       "      <td>0.000000</td>\n",
       "      <td>0.000000</td>\n",
       "      <td>0.119523</td>\n",
       "      <td>1.000000</td>\n",
       "      <td>0.000000</td>\n",
       "      <td>0.046349</td>\n",
       "      <td>0.000000</td>\n",
       "    </tr>\n",
       "    <tr>\n",
       "      <th>18282</th>\n",
       "      <td>0.0</td>\n",
       "      <td>0.113776</td>\n",
       "      <td>0.000000</td>\n",
       "      <td>0.068041</td>\n",
       "      <td>0.000000</td>\n",
       "      <td>0.038236</td>\n",
       "      <td>0.0</td>\n",
       "      <td>0.000000</td>\n",
       "      <td>0.160128</td>\n",
       "      <td>0.080064</td>\n",
       "      <td>...</td>\n",
       "      <td>0.0</td>\n",
       "      <td>0.174078</td>\n",
       "      <td>0.000000</td>\n",
       "      <td>0.000000</td>\n",
       "      <td>0.000000</td>\n",
       "      <td>0.000000</td>\n",
       "      <td>0.000000</td>\n",
       "      <td>1.000000</td>\n",
       "      <td>0.017700</td>\n",
       "      <td>0.000000</td>\n",
       "    </tr>\n",
       "    <tr>\n",
       "      <th>18283</th>\n",
       "      <td>0.0</td>\n",
       "      <td>0.102705</td>\n",
       "      <td>0.173937</td>\n",
       "      <td>0.115615</td>\n",
       "      <td>0.061314</td>\n",
       "      <td>0.073091</td>\n",
       "      <td>0.0</td>\n",
       "      <td>0.112713</td>\n",
       "      <td>0.034011</td>\n",
       "      <td>0.093530</td>\n",
       "      <td>...</td>\n",
       "      <td>0.0</td>\n",
       "      <td>0.036974</td>\n",
       "      <td>0.016387</td>\n",
       "      <td>0.043355</td>\n",
       "      <td>0.000000</td>\n",
       "      <td>0.000000</td>\n",
       "      <td>0.046349</td>\n",
       "      <td>0.017700</td>\n",
       "      <td>1.000000</td>\n",
       "      <td>0.076605</td>\n",
       "    </tr>\n",
       "    <tr>\n",
       "      <th>test</th>\n",
       "      <td>0.0</td>\n",
       "      <td>0.015388</td>\n",
       "      <td>0.034080</td>\n",
       "      <td>0.000000</td>\n",
       "      <td>0.000000</td>\n",
       "      <td>0.020686</td>\n",
       "      <td>0.0</td>\n",
       "      <td>0.000000</td>\n",
       "      <td>0.086630</td>\n",
       "      <td>0.000000</td>\n",
       "      <td>...</td>\n",
       "      <td>0.0</td>\n",
       "      <td>0.000000</td>\n",
       "      <td>0.083478</td>\n",
       "      <td>0.000000</td>\n",
       "      <td>0.052058</td>\n",
       "      <td>0.000000</td>\n",
       "      <td>0.000000</td>\n",
       "      <td>0.000000</td>\n",
       "      <td>0.076605</td>\n",
       "      <td>1.000000</td>\n",
       "    </tr>\n",
       "  </tbody>\n",
       "</table>\n",
       "<p>4336 rows × 4336 columns</p>\n",
       "</div>"
      ],
      "text/plain": [
       "CustomerID  12346     12347     12348     12349     12350     12352  12353  \\\n",
       "CustomerID                                                                   \n",
       "12346         1.0  0.000000  0.000000  0.000000  0.000000  0.000000    0.0   \n",
       "12347         0.0  1.000000  0.064505  0.046449  0.049266  0.039153    0.0   \n",
       "12348         0.0  0.064505  1.000000  0.000000  0.000000  0.000000    0.0   \n",
       "12349         0.0  0.046449  0.000000  1.000000  0.029463  0.109268    0.0   \n",
       "12350         0.0  0.049266  0.000000  0.029463  1.000000  0.000000    0.0   \n",
       "...           ...       ...       ...       ...       ...       ...    ...   \n",
       "18280         0.0  0.062318  0.000000  0.000000  0.000000  0.000000    0.0   \n",
       "18281         0.0  0.000000  0.000000  0.000000  0.000000  0.000000    0.0   \n",
       "18282         0.0  0.113776  0.000000  0.068041  0.000000  0.038236    0.0   \n",
       "18283         0.0  0.102705  0.173937  0.115615  0.061314  0.073091    0.0   \n",
       "test          0.0  0.015388  0.034080  0.000000  0.000000  0.020686    0.0   \n",
       "\n",
       "CustomerID     12354     12355     12356  ...  18273     18274     18276  \\\n",
       "CustomerID                                ...                              \n",
       "12346       0.000000  0.000000  0.000000  ...    0.0  0.000000  0.000000   \n",
       "12347       0.012938  0.136641  0.095648  ...    0.0  0.029709  0.052668   \n",
       "12348       0.028653  0.121046  0.121046  ...    0.0  0.065795  0.116642   \n",
       "12349       0.030949  0.032686  0.130744  ...    0.0  0.106600  0.000000   \n",
       "12350       0.000000  0.000000  0.000000  ...    0.0  0.000000  0.000000   \n",
       "...              ...       ...       ...  ...    ...       ...       ...   \n",
       "18280       0.041523  0.000000  0.000000  ...    0.0  0.000000  0.000000   \n",
       "18281       0.049629  0.000000  0.000000  ...    0.0  0.000000  0.000000   \n",
       "18282       0.000000  0.160128  0.080064  ...    0.0  0.174078  0.000000   \n",
       "18283       0.112713  0.034011  0.093530  ...    0.0  0.036974  0.016387   \n",
       "test        0.000000  0.086630  0.000000  ...    0.0  0.000000  0.083478   \n",
       "\n",
       "CustomerID     18277     18278     18280     18281     18282     18283  \\\n",
       "CustomerID                                                               \n",
       "12346       0.000000  0.000000  0.000000  0.000000  0.000000  0.000000   \n",
       "12347       0.000000  0.032844  0.062318  0.000000  0.113776  0.102705   \n",
       "12348       0.000000  0.000000  0.000000  0.000000  0.000000  0.173937   \n",
       "12349       0.000000  0.039284  0.000000  0.000000  0.068041  0.115615   \n",
       "12350       0.000000  0.000000  0.000000  0.000000  0.000000  0.061314   \n",
       "...              ...       ...       ...       ...       ...       ...   \n",
       "18280       0.000000  0.105409  1.000000  0.119523  0.000000  0.000000   \n",
       "18281       0.000000  0.000000  0.119523  1.000000  0.000000  0.046349   \n",
       "18282       0.000000  0.000000  0.000000  0.000000  1.000000  0.017700   \n",
       "18283       0.043355  0.000000  0.000000  0.046349  0.017700  1.000000   \n",
       "test        0.000000  0.052058  0.000000  0.000000  0.000000  0.076605   \n",
       "\n",
       "CustomerID      test  \n",
       "CustomerID            \n",
       "12346       0.000000  \n",
       "12347       0.015388  \n",
       "12348       0.034080  \n",
       "12349       0.000000  \n",
       "12350       0.000000  \n",
       "...              ...  \n",
       "18280       0.000000  \n",
       "18281       0.000000  \n",
       "18282       0.000000  \n",
       "18283       0.076605  \n",
       "test        1.000000  \n",
       "\n",
       "[4336 rows x 4336 columns]"
      ]
     },
     "execution_count": 21,
     "metadata": {},
     "output_type": "execute_result"
    }
   ],
   "source": [
    "cosine_sim_table"
   ]
  },
  {
   "cell_type": "markdown",
   "id": "6260e15a-df50-49c0-8b39-5f6c889a6cca",
   "metadata": {},
   "source": [
    "<div class=\"yellow\">\n",
    "Create a list of top 3 similar customers (nearest neighbours)\n",
    "</div>"
   ]
  },
  {
   "cell_type": "code",
   "execution_count": 22,
   "id": "9be22423-8c3a-4a94-8e50-23462ca75aaf",
   "metadata": {
    "tags": []
   },
   "outputs": [
    {
     "name": "stdout",
     "output_type": "stream",
     "text": [
      "The TOP 3 next neighbors of the test customer are CustomerID=='['15434', '14339', '14813']'\n",
      "Cosine similarities:  [0.173 0.167 0.159]\n"
     ]
    }
   ],
   "source": [
    "test_cusomer='test'\n",
    "\n",
    "next_neighbour = list(cosine_sim_table.loc[test_cusomer].sort_values(ascending=False).index[1:4])\n",
    "print(f\"The TOP 3 next neighbors of the test customer are CustomerID=='{next_neighbour}'\")\n",
    "print(\"Cosine similarities: \", np.round(list(cosine_sim_table.loc[test_cusomer].sort_values(ascending=False)[1:4]),3))"
   ]
  },
  {
   "cell_type": "markdown",
   "id": "552466f1-7026-44b6-a105-7670049d9210",
   "metadata": {},
   "source": [
    "<div class=\"yellow\">\n",
    "Print the TOP 5 product classes from which the nearest neighbor of the test-customer bought items\n",
    "</div>"
   ]
  },
  {
   "cell_type": "code",
   "execution_count": 23,
   "id": "2ec0f073-86dc-44f6-8f93-4b8466a7953b",
   "metadata": {
    "tags": []
   },
   "outputs": [
    {
     "data": {
      "text/plain": [
       "product_class\n",
       "219    11\n",
       "60      3\n",
       "336     2\n",
       "333     2\n",
       "30      2\n",
       "Name: count, dtype: int64"
      ]
     },
     "execution_count": 23,
     "metadata": {},
     "output_type": "execute_result"
    }
   ],
   "source": [
    "row = df_purchases.loc[next_neighbour[0]]\n",
    "next_neighbour_purchases = pd.DataFrame(list(row[row==1].index), columns=['Description'])\n",
    "next_neighbour_purchases_classes = pd.merge(next_neighbour_purchases, df_clusters, on='Description', how='left').sort_values(by='product_class')\n",
    "top_next_neighbour_purchases_classes = next_neighbour_purchases_classes['product_class'].value_counts().head().index\n",
    "next_neighbour_purchases_classes['product_class'].value_counts().head()"
   ]
  },
  {
   "cell_type": "markdown",
   "id": "b6fb2be3-55b7-4dc1-b246-ac7db0ceab4c",
   "metadata": {},
   "source": [
    "<div class=\"yellow\">\n",
    "Example: Recommend one item (here: randomly) from each product class. \n",
    "</div>"
   ]
  },
  {
   "cell_type": "code",
   "execution_count": 116,
   "id": "41062165-026a-45a4-a256-d38db66c3f64",
   "metadata": {
    "tags": []
   },
   "outputs": [
    {
     "name": "stdout",
     "output_type": "stream",
     "text": [
      "                         Description  UnitPrice\n",
      "0         HOT WATER BOTTLE KEEP CALM       4.95\n",
      "1           STRIPY DESIGN SHOWER CAP       0.29\n",
      "2  PINK HAWAIIAN PICNIC HAMPER FOR 2      12.75\n",
      "3            KEY CABINET MA CAMPAGNE       9.95\n",
      "4                  ICE CREAM BUBBLES       0.83\n",
      "Total price 28.77\n"
     ]
    }
   ],
   "source": [
    "rec_product = []\n",
    "for l in top_next_neighbour_purchases_classes:\n",
    "    rec_product.append(df1.query(\"product_class==@l\")[['Description', 'UnitPrice']].drop_duplicates(subset=['Description'], keep='last').sample(1).iloc[0].tolist())\n",
    "recommendations = pd.DataFrame(rec_product, columns=['Description','UnitPrice'])\n",
    "total_price = recommendations['UnitPrice'].sum()\n",
    "\n",
    "# Print recommendations and prices, including the total price\n",
    "print(recommendations)\n",
    "print(f\"Total price {round(total_price,2)}\")"
   ]
  },
  {
   "cell_type": "code",
   "execution_count": null,
   "id": "e47e8fe9-f5a9-4587-adac-69178bae30c1",
   "metadata": {
    "tags": []
   },
   "outputs": [],
   "source": []
  },
  {
   "cell_type": "markdown",
   "id": "9da9c46e-71b1-42b7-a577-4ab204c7b225",
   "metadata": {
    "tags": []
   },
   "source": [
    "<a id='split'/>\n",
    "\n",
    "## Train/Test Split\n",
    "\n",
    "[back to TOC](#TOC)\n",
    "\n"
   ]
  },
  {
   "cell_type": "markdown",
   "id": "7f433d65-7096-47cc-8679-fcfdf67f6804",
   "metadata": {},
   "source": [
    "<div class=\"yellow\">\n",
    "If one wants to test the recommendation engine on the whole dataset (or a significant portion of it), one needs to provide a splitting into train and test datasets.\n",
    "The best way to split would be one that deals in the best possible way with an unbalanced dataset. After all, the data provided are highly unbalanced, because there are many more items that a custemer did **not** buy then there are items that the custemer **did** buy. \n",
    "Thus, the split has to ensure, that both, train and test data contain a relevant amount of actual purchases. This would not be the case if one would make split, for example, at a certain date.\n",
    "No, further above, I have already presented a way to split the data in such a way that a certain ratio of actually purchased items is realized between the test and train datasets.\n",
    "    \n",
    "    \n",
    "</div>"
   ]
  },
  {
   "cell_type": "markdown",
   "id": "bb9a7db1-436f-4168-ab73-fbb663fa4a02",
   "metadata": {},
   "source": [
    "<div class=\"yellow\">\n",
    "One-Hot encode customer v.s product matrix: \n",
    "</div>"
   ]
  },
  {
   "cell_type": "code",
   "execution_count": 25,
   "id": "06380a32-d44a-443c-ad65-55f3df52cef2",
   "metadata": {
    "tags": []
   },
   "outputs": [],
   "source": [
    "df1 = pd.merge(df0, df_clusters, on='Description', how='left')\n",
    "df_purchases = pd.crosstab(df1['CustomerID'],df1['Description'])\n",
    "df_purchases = df_purchases.gt(0).astype(int)\n"
   ]
  },
  {
   "cell_type": "markdown",
   "id": "d6974476-ba60-4898-8697-70829af29448",
   "metadata": {
    "tags": []
   },
   "source": [
    "<div class=\"yellow\">\n",
    "Use rows 3300 to 4336 for testing the recommendation methods.\n",
    "</div>"
   ]
  },
  {
   "cell_type": "code",
   "execution_count": 26,
   "id": "c143d253-5b4a-43a1-aee4-68c1cab5b5bc",
   "metadata": {
    "tags": []
   },
   "outputs": [],
   "source": [
    "split=3300 "
   ]
  },
  {
   "cell_type": "code",
   "execution_count": null,
   "id": "1a549919-bdc0-4f11-a1a3-c51d9e1b9ce2",
   "metadata": {},
   "outputs": [],
   "source": [
    "X_test = df_purchases.iloc[split:].copy()\n",
    "Y_test = df_purchases.iloc[split:].copy()\n",
    "\n",
    "# here I preper the dataframe in which the recommended (or \"predicted\") purchases will be stored later\n",
    "Y_pred=Y_test.copy()\n",
    "Y_pred[Y_pred>0] = 0"
   ]
  },
  {
   "cell_type": "markdown",
   "id": "db964746-04a3-4c54-8613-70b1a5d09682",
   "metadata": {
    "tags": []
   },
   "source": [
    "<div class=\"yellow\">\n",
    "Remove 50% of the 1-values (i.e. of all bought items) from the customer v.s product matrix for each customer individually and store the reduced dataset in `X_test`\n",
    "</div>"
   ]
  },
  {
   "cell_type": "code",
   "execution_count": 28,
   "id": "44d0384a-a89b-4e95-af62-836b3e2b600e",
   "metadata": {
    "tags": []
   },
   "outputs": [],
   "source": [
    "for index, row in X_test.iterrows():\n",
    "    num_ones = row.sum()\n",
    "    num_col_to_set_0 = int(round(0.5 * num_ones,0))\n",
    "    cols_to_set_0 = row[row == 1].sample(n=num_col_to_set_0, random_state=77)\n",
    "    row.update(cols_to_set_0.map(lambda x: 0))\n",
    "    \n"
   ]
  },
  {
   "cell_type": "code",
   "execution_count": 29,
   "id": "320998f0-5b23-4f0d-bdd0-d49317971f01",
   "metadata": {
    "tags": []
   },
   "outputs": [
    {
     "data": {
      "text/plain": [
       "0.5002066641231082"
      ]
     },
     "execution_count": 29,
     "metadata": {},
     "output_type": "execute_result"
    }
   ],
   "source": [
    "# check how many 1s were removed from the test dataset\n",
    "np.sum(np.array(X_test) * np.array(df_purchases.iloc[split:].copy()))/np.sum(np.array(df_purchases.iloc[split:].copy()))"
   ]
  },
  {
   "cell_type": "code",
   "execution_count": null,
   "id": "4ce3fff7-1445-461d-a195-15a79dd84325",
   "metadata": {
    "tags": []
   },
   "outputs": [
    {
     "name": "stdout",
     "output_type": "stream",
     "text": [
      "Example split:\n",
      "Total number of purchases by CustomerID=='18287': 59\n",
      "Number of purchases by CustomerID=='18287' in the test set: 29\n",
      "Number of purchases by CustomerID=='18287' in the validation set: 30\n"
     ]
    }
   ],
   "source": [
    "print(\"Example split:\")\n",
    "print(f\"Total number of purchases by CustomerID=='18287': {df_purchases.loc['18287'].sum()}\")\n",
    "print(f\"Number of purchases by CustomerID=='18287' in the test set: {X_test.loc['18287'].sum()}\")\n",
    "print(f\"Number of purchases by CustomerID=='18287' in the validation set: {Y_test.loc['18287'].sum()}\")\n"
   ]
  },
  {
   "cell_type": "markdown",
   "id": "9b3c070d-fa11-43e3-92ce-42b21659449e",
   "metadata": {
    "tags": []
   },
   "source": [
    "<div class=\"yellow\">\n",
    "Recover the 1-values from the customer v.s product matrix that were `sss` removed from `X_test` the previous step. This dataframe contains now the values that we want to predict from putting `X_test` into the recommendation model. \n",
    "</div>"
   ]
  },
  {
   "cell_type": "code",
   "execution_count": 30,
   "id": "a819ed95-4cf8-45ea-b6d5-2b5e710a17b0",
   "metadata": {
    "tags": []
   },
   "outputs": [],
   "source": [
    "Y_test = df_purchases.iloc[split:].copy() - X_test"
   ]
  },
  {
   "cell_type": "markdown",
   "id": "40d8a13a-a218-4b42-ba6e-6ea03f23c763",
   "metadata": {},
   "source": [
    "<div class=\"yellow\">\n",
    "In the following, I will now test two methods:\n",
    "    \n",
    "1. I identify the TOP 5 product-classes (i.e. the product classes from which the most purchases were made) of the \"next neighbor\" and recommend one product from each category.\n",
    "2. I identify the single TOP product-class of the \"next neighbor\" and recommend 5 products from this class.\n",
    "\n",
    "The methods are also tested against a \"dummy\" model, whis is: 5 products are drawn from a random product-class.\n",
    "</div>"
   ]
  },
  {
   "cell_type": "markdown",
   "id": "4056a05f-6a6d-4bb4-817d-695c1e430dfd",
   "metadata": {
    "tags": []
   },
   "source": [
    "<a id='m1'/>\n",
    "\n",
    "### Method 1: Recommending one product each from several top categories\n",
    "\n",
    "[back to TOC](#TOC)"
   ]
  },
  {
   "cell_type": "code",
   "execution_count": 32,
   "id": "3926f749-f79e-49b8-98aa-ef6a97cbc9ab",
   "metadata": {
    "tags": []
   },
   "outputs": [],
   "source": [
    "method_1 = []\n",
    "for i in range(5):\n",
    "\n",
    "    for customer in X_test.index:\n",
    "        \n",
    "        # remove the current customer from the dataset \n",
    "        X_train=df_purchases.drop(customer, axis=0).copy()\n",
    "        # reassign the customer with 50% of his transactions removed\n",
    "        X_train.loc[customer]=X_test.loc[customer]\n",
    "        # calculate the cosine similarities between all customers \n",
    "        cosine_sim_table = pd.DataFrame(cosine_similarity(X_train), index=X_train.index, columns=X_train.index)\n",
    "        # get the most similar customer\n",
    "        next_neighbor = list(cosine_sim_table.loc[customer].sort_values(ascending=False).index[1:2])\n",
    "\n",
    "\n",
    "        # get the descriptions of the next neigbor's purchases\n",
    "        row = df_purchases.loc[next_neighbor[0]]\n",
    "        next_neighbor_purchases = pd.DataFrame(list(row[row==1].index), columns=['Description'])\n",
    "        # get the classes associated with the next neigbor's purchased items\n",
    "        next_neighbor_purchases_classes = pd.merge(next_neighbor_purchases, df_clusters, on='Description', how='left').sort_values(by='product_class')\n",
    "        # get the TOP 5 classes from which the most purchases were made by the next neighbor\n",
    "        top_next_neighbor_purchases_classes = next_neighbor_purchases_classes['product_class'].value_counts().head().index\n",
    "\n",
    "        # get one random item from each of the TOP classes\n",
    "        top_next_neighbor_purchases = []\n",
    "        for cl in top_next_neighbor_purchases_classes:\n",
    "            top_next_neighbor_purchases.append( list(df1.query(\"product_class==@cl\")[['Description', 'UnitPrice']]\n",
    "                                                     .drop_duplicates(subset=['Description'], keep='last')\n",
    "                                                     .sample(1)['Description'])[0] )\n",
    "\n",
    "\n",
    "        # set the predicted item's values in Y_pred to 1. \n",
    "        Y_pred.loc[customer, top_next_neighbor_purchases ]=1\n",
    "    \n",
    "    # calculate how many of the predicted items match actually bough items in the test dataset. Output as fraction. \n",
    "    method_1.append(np.sum( np.array(Y_pred)*np.array(Y_test) ) / np.sum( np.array(Y_pred)))\n",
    "    "
   ]
  },
  {
   "cell_type": "code",
   "execution_count": 48,
   "id": "d5140626-2edb-49e4-9ff7-8313be0f1766",
   "metadata": {
    "tags": []
   },
   "outputs": [
    {
     "name": "stdout",
     "output_type": "stream",
     "text": [
      "[0.04927057528213598, 0.0516519982686481, 0.051824378508420206, 0.051229829233902555, 0.05011049005589497]\n",
      "mean: 0.051 +- 0.00098\n"
     ]
    }
   ],
   "source": [
    "print(method_1)\n",
    "print(\"mean:\", round(np.mean(method_1),3), \"+-\", round(np.std(method_1), 5))"
   ]
  },
  {
   "cell_type": "markdown",
   "id": "6e9dfac5-f55e-4bd6-99f6-24843c645065",
   "metadata": {},
   "source": [
    "<a id='m2'/>\n",
    "\n",
    "### Method 2: Recommending several products from the top 1 category\n",
    "\n",
    "[back to TOC](#TOC)"
   ]
  },
  {
   "cell_type": "code",
   "execution_count": 34,
   "id": "91baabd1-4b21-4d31-9502-7c3ab68bb321",
   "metadata": {
    "tags": []
   },
   "outputs": [],
   "source": [
    "method_2 = []\n",
    "for i in range(5):\n",
    "\n",
    "    for customer in X_test.index:\n",
    "        X_train=df_purchases.drop(customer, axis=0).copy()\n",
    "        X_train.loc[customer]=X_test.loc[customer]\n",
    "        cosine_sim_table = pd.DataFrame(cosine_similarity(X_train), index=X_train.index, columns=X_train.index)\n",
    "        next_neighbor = list(cosine_sim_table.loc[customer].sort_values(ascending=False).index[1:2])\n",
    "\n",
    "\n",
    "\n",
    "        row = df_purchases.loc[next_neighbor[0]]\n",
    "        next_neighbor_purchases = pd.DataFrame(list(row[row==1].index), columns=['Description'])\n",
    "        next_neighbor_purchases_classes = pd.merge(next_neighbor_purchases, df_clusters, on='Description', how='left').sort_values(by='product_class')\n",
    "        \n",
    "        # get the class from which the most purchases were made by the next neighbor\n",
    "        top_next_neighbor_purchases_classes = next_neighbor_purchases_classes['product_class'].value_counts().head(1).index\n",
    "\n",
    "\n",
    "        top_next_neighbor_purchases = []\n",
    "\n",
    "        # get five random items from that class\n",
    "        for cl in top_next_neighbor_purchases_classes:\n",
    "            top_next_neighbor_purchases = list(df1.query(\"product_class==@cl\")[['Description', 'UnitPrice']]\n",
    "                                               .drop_duplicates(subset=['Description'], keep='last')\n",
    "                                               .sample(5, replace=True)['Description']\n",
    "                                               .drop_duplicates() ) \n",
    "\n",
    "\n",
    "        Y_pred.loc[customer, top_next_neighbor_purchases ]=1\n",
    "\n",
    "    method_2.append(np.sum( np.array(Y_pred)*np.array(Y_test) ) / np.sum( np.array(Y_pred)))"
   ]
  },
  {
   "cell_type": "code",
   "execution_count": 47,
   "id": "7ffd9725-d55f-4653-88ac-810664c75260",
   "metadata": {
    "tags": []
   },
   "outputs": [
    {
     "name": "stdout",
     "output_type": "stream",
     "text": [
      "[0.051684658161596335, 0.0526908023483366, 0.052856041014473026, 0.05274952594380279, 0.052655582735602634]\n",
      "mean: 0.053 +- 0.00043\n"
     ]
    }
   ],
   "source": [
    "print(method_2)\n",
    "print(\"mean:\", round(np.mean(method_2),3), \"+-\", round(np.std(method_2), 5))"
   ]
  },
  {
   "cell_type": "markdown",
   "id": "b5994ff2-854a-4e55-8392-b54bfbbda1f7",
   "metadata": {},
   "source": [
    "<a id='m3'/>\n",
    "\n",
    "### Method 3: recommending products **randomly**\n",
    "\n",
    "[back to TOC](#TOC)"
   ]
  },
  {
   "cell_type": "code",
   "execution_count": 36,
   "id": "dd7eacbc-dccd-4153-872e-af899d612d15",
   "metadata": {
    "tags": []
   },
   "outputs": [],
   "source": [
    "method_3 = []\n",
    "for i in range(5):\n",
    "\n",
    "    for customer in X_test.index:\n",
    "        X_train=df_purchases.drop(customer, axis=0).copy()\n",
    "        X_train.loc[customer]=X_test.loc[customer]\n",
    "\n",
    "\n",
    "        \n",
    "        top_next_neighbor_purchases_classes = [np.random.randint(1,355)] \n",
    "\n",
    "\n",
    "        top_next_neighbor_purchases = []\n",
    "\n",
    "        for cl in top_next_neighbor_purchases_classes:\n",
    "            top_next_neighbor_purchases = list(df1.query(\"product_class==@cl\")[['Description', 'UnitPrice']]\n",
    "                                               .drop_duplicates(subset=['Description'], keep='last')\n",
    "                                               .sample(5, replace=True)['Description']\n",
    "                                               .drop_duplicates() ) \n",
    "\n",
    "        \n",
    "        Y_pred.loc[customer, top_next_neighbor_purchases ]=1\n",
    "\n",
    "    method_3.append(np.sum( np.array(Y_pred)*np.array(Y_test) ) / np.sum( np.array(Y_pred)))"
   ]
  },
  {
   "cell_type": "code",
   "execution_count": 52,
   "id": "f92d134e-1157-49dd-9352-732e869e0ecd",
   "metadata": {
    "tags": []
   },
   "outputs": [
    {
     "name": "stdout",
     "output_type": "stream",
     "text": [
      "[0.04619536270993857, 0.041607020601232336, 0.03769149936397323, 0.034654203748819175, 0.032159507536323725]\n",
      "mean: 0.038 +- 0.00499\n"
     ]
    }
   ],
   "source": [
    "print(method_3)\n",
    "print(\"mean:\", round(np.mean(method_3),3), \"+-\", round(np.std(method_3), 5))"
   ]
  },
  {
   "cell_type": "markdown",
   "id": "8a4c3a61-19eb-410b-a0a0-71ab3080e2d7",
   "metadata": {},
   "source": [
    "<a id='#conclusion'/>\n",
    "\n",
    "## Conclusion\n",
    "\n",
    "[back to TOC](#TOC)"
   ]
  },
  {
   "cell_type": "code",
   "execution_count": 55,
   "id": "c35c9bec-c5ee-41ab-ad0a-046db607b1b1",
   "metadata": {},
   "outputs": [
    {
     "name": "stdout",
     "output_type": "stream",
     "text": [
      "Method 2 hits 1.37 times more often than a random recommendation\n"
     ]
    }
   ],
   "source": [
    "print(f\"Method 2 hits {round(np.mean(method_2)/np.mean(method_3),2)} times more often than a random recommendation\" )"
   ]
  },
  {
   "cell_type": "markdown",
   "id": "479729ed-6a21-400b-9c8a-d20868cc6a78",
   "metadata": {},
   "source": [
    "<div class=\"yellow\">\n",
    "Method 2 has a 37% higher chance of recommending bundles which contain products that the customer is potentially interested in, compared to fully random recommendations. \n",
    "A 37% higher chance of recommending interesting products is a significant improvement over random recommendations and can have a very positive business impact!\n",
    "Customers are more likely to buy products within bundles that they would not have considered otherwise if the bundles contain at least a few exciting products.\n",
    "This translates to larger basket sizes, and reduced cart abandonment. \n",
    "Customers will also be more satisfied and have a better shopping experience, resulting also in increased time spent on the website. \n",
    "Satisfied customers are also more likely to recommend the website to others, which effectively lowers marketing and acquisition costs.\n",
    "\n",
    "We can ultimately anticipate increased revenue from this.\n",
    "\n",
    "However, quantifiable metrics are the key to convincing stakeholders. \n",
    "To measure the financial impact and strategic value of the recommendation engine, I recommend to perform AB tests. \n",
    "Only with data gained by testing the models on \"real subjects\" a good cost-benefit analysis, comparing development costs to financial gains, can be presented to the stakeholders.\n",
    "\n",
    "</div>"
   ]
  }
 ],
 "metadata": {
  "kernelspec": {
   "display_name": "Python 3 (ipykernel)",
   "language": "python",
   "name": "python3"
  },
  "language_info": {
   "codemirror_mode": {
    "name": "ipython",
    "version": 3
   },
   "file_extension": ".py",
   "mimetype": "text/x-python",
   "name": "python",
   "nbconvert_exporter": "python",
   "pygments_lexer": "ipython3",
   "version": "3.11.3"
  }
 },
 "nbformat": 4,
 "nbformat_minor": 5
}
